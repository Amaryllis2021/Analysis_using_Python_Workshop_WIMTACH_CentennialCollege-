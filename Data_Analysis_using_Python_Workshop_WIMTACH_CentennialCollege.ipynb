{
  "nbformat": 4,
  "nbformat_minor": 0,
  "metadata": {
    "colab": {
      "name": "Data_Analysis_using_Python_Workshop_WIMTACH_CentennialCollege.ipynb",
      "provenance": [],
      "collapsed_sections": [],
      "toc_visible": true,
      "include_colab_link": true
    },
    "kernelspec": {
      "display_name": "Python 3",
      "language": "python",
      "name": "python3"
    },
    "language_info": {
      "codemirror_mode": {
        "name": "ipython",
        "version": 3
      },
      "file_extension": ".py",
      "mimetype": "text/x-python",
      "name": "python",
      "nbconvert_exporter": "python",
      "pygments_lexer": "ipython3",
      "version": "3.7.7"
    }
  },
  "cells": [
    {
      "cell_type": "markdown",
      "metadata": {
        "id": "view-in-github",
        "colab_type": "text"
      },
      "source": [
        "<a href=\"https://colab.research.google.com/github/Amaryllis2021/Analysis_using_Python_Workshop_WIMTACH_CentennialCollege-/blob/main/Data_Analysis_using_Python_Workshop_WIMTACH_CentennialCollege.ipynb\" target=\"_parent\"><img src=\"https://colab.research.google.com/assets/colab-badge.svg\" alt=\"Open In Colab\"/></a>"
      ]
    },
    {
      "cell_type": "markdown",
      "metadata": {
        "id": "mbcYvWaPoOL0"
      },
      "source": [
        "\n",
        "## DATA ANALYSIS USING PYTHON"
      ]
    },
    {
      "cell_type": "markdown",
      "metadata": {
        "id": "hQah2w4jWXx2"
      },
      "source": [
        "## Basic Operations  \n",
        "`\n"
      ]
    },
    {
      "cell_type": "markdown",
      "metadata": {
        "id": "fP5gxpt3oOL2"
      },
      "source": [
        "Try the following:"
      ]
    },
    {
      "cell_type": "code",
      "metadata": {
        "id": "eyVhoLPyoOL3"
      },
      "source": [
        "25+431"
      ],
      "execution_count": null,
      "outputs": []
    },
    {
      "cell_type": "code",
      "metadata": {
        "id": "dbL1rMZmoOL7"
      },
      "source": [
        "7888*2666"
      ],
      "execution_count": null,
      "outputs": []
    },
    {
      "cell_type": "code",
      "metadata": {
        "id": "Xxc_pFLWoOL-"
      },
      "source": [
        "3232/4343\n"
      ],
      "execution_count": null,
      "outputs": []
    },
    {
      "cell_type": "markdown",
      "metadata": {
        "id": "cSSYC_OToOMA"
      },
      "source": [
        " Try more:"
      ]
    },
    {
      "cell_type": "code",
      "metadata": {
        "id": "P1HdvyvGoOMB"
      },
      "source": [
        "32873+4242"
      ],
      "execution_count": null,
      "outputs": []
    },
    {
      "cell_type": "code",
      "metadata": {
        "id": "Wzf0ijb-oOMD"
      },
      "source": [
        "5**2"
      ],
      "execution_count": null,
      "outputs": []
    },
    {
      "cell_type": "code",
      "metadata": {
        "id": "pETPS-CloOMF"
      },
      "source": [
        "100**2"
      ],
      "execution_count": null,
      "outputs": []
    },
    {
      "cell_type": "code",
      "metadata": {
        "id": "mgGa5XLYoOMK"
      },
      "source": [
        ""
      ],
      "execution_count": null,
      "outputs": []
    },
    {
      "cell_type": "markdown",
      "metadata": {
        "id": "k2GHnG6XoOMN"
      },
      "source": [
        "## Import Data:\n"
      ]
    },
    {
      "cell_type": "markdown",
      "metadata": {
        "id": "TMLHrNa-oOMN"
      },
      "source": [
        "Import Library:\n",
        "\n",
        "import Pandas \n",
        "\n",
        "import pandas as pd"
      ]
    },
    {
      "cell_type": "code",
      "metadata": {
        "id": "sOtNNl1joOMO"
      },
      "source": [
        "import pandas as pd"
      ],
      "execution_count": 1,
      "outputs": []
    },
    {
      "cell_type": "code",
      "metadata": {
        "id": "9Nb8Z5dpoOMR"
      },
      "source": [
        "data=pd.read_csv('https://raw.githubusercontent.com/ivailop7/Health-Data-Analysis/master/Health%20Data-daily.csv')"
      ],
      "execution_count": 2,
      "outputs": []
    },
    {
      "cell_type": "markdown",
      "metadata": {
        "id": "SDnuvPkKoOMU"
      },
      "source": [
        "To get the number of columns and rows in the dataset:"
      ]
    },
    {
      "cell_type": "code",
      "metadata": {
        "colab": {
          "base_uri": "https://localhost:8080/"
        },
        "id": "ziQl_uKjoOMV",
        "outputId": "d985caf6-f9d1-492a-cb26-b9ab2a7aa568"
      },
      "source": [
        "data.shape"
      ],
      "execution_count": 3,
      "outputs": [
        {
          "output_type": "execute_result",
          "data": {
            "text/plain": [
              "(767, 68)"
            ]
          },
          "metadata": {
            "tags": []
          },
          "execution_count": 3
        }
      ]
    },
    {
      "cell_type": "code",
      "metadata": {
        "colab": {
          "base_uri": "https://localhost:8080/"
        },
        "id": "G-v2Py4rUW98",
        "outputId": "50f3d793-9724-475b-d32b-e468ce3904ba"
      },
      "source": [
        "data.shape\n"
      ],
      "execution_count": 4,
      "outputs": [
        {
          "output_type": "execute_result",
          "data": {
            "text/plain": [
              "(767, 68)"
            ]
          },
          "metadata": {
            "tags": []
          },
          "execution_count": 4
        }
      ]
    },
    {
      "cell_type": "code",
      "metadata": {
        "colab": {
          "base_uri": "https://localhost:8080/",
          "height": 547
        },
        "id": "HtsB6tq9oOMY",
        "outputId": "d0de6987-1538-46da-b178-cfae7799a96c"
      },
      "source": [
        "data.head()"
      ],
      "execution_count": 5,
      "outputs": [
        {
          "output_type": "execute_result",
          "data": {
            "text/html": [
              "<div>\n",
              "<style scoped>\n",
              "    .dataframe tbody tr th:only-of-type {\n",
              "        vertical-align: middle;\n",
              "    }\n",
              "\n",
              "    .dataframe tbody tr th {\n",
              "        vertical-align: top;\n",
              "    }\n",
              "\n",
              "    .dataframe thead th {\n",
              "        text-align: right;\n",
              "    }\n",
              "</style>\n",
              "<table border=\"1\" class=\"dataframe\">\n",
              "  <thead>\n",
              "    <tr style=\"text-align: right;\">\n",
              "      <th></th>\n",
              "      <th>Start</th>\n",
              "      <th>Finish</th>\n",
              "      <th>Active Calories (kcal)</th>\n",
              "      <th>Biotin (mcg)</th>\n",
              "      <th>Blood Alcohol Content (%)</th>\n",
              "      <th>Blood Glucose (mg/dL)</th>\n",
              "      <th>Blood Pressure (Diastolic) (mmHg)</th>\n",
              "      <th>Blood Pressure (Systolic) (mmHg)</th>\n",
              "      <th>Body Fat Percentage (%)</th>\n",
              "      <th>Body Mass Index (count)</th>\n",
              "      <th>Body Temperature (degC)</th>\n",
              "      <th>Basal Body Temperature (degC)</th>\n",
              "      <th>Caffeine (mg)</th>\n",
              "      <th>Calcium (mg)</th>\n",
              "      <th>Carbohydrates (mg)</th>\n",
              "      <th>Chloride (mg)</th>\n",
              "      <th>Cholesterol (mg)</th>\n",
              "      <th>Chromium (mcg)</th>\n",
              "      <th>Copper (mcg)</th>\n",
              "      <th>Cycling Distance (mi)</th>\n",
              "      <th>Dietary Calories (cal)</th>\n",
              "      <th>Distance (km)</th>\n",
              "      <th>Electrodermal Activity (mcS)</th>\n",
              "      <th>Fiber (g)</th>\n",
              "      <th>Flights Climbed (count)</th>\n",
              "      <th>Folate (mcg)</th>\n",
              "      <th>Forced Expiratory Volume (L)</th>\n",
              "      <th>Forced Vital Capacity (L)</th>\n",
              "      <th>Heart Rate (count/min)</th>\n",
              "      <th>Inhaler Usage (count)</th>\n",
              "      <th>Iodine (mcg)</th>\n",
              "      <th>Lean Body Mass (kg)</th>\n",
              "      <th>Magnesium (mg)</th>\n",
              "      <th>Manganese (mg)</th>\n",
              "      <th>Molybdenum (mcg)</th>\n",
              "      <th>Monosaturated Fat (g)</th>\n",
              "      <th>Niacin (mg)</th>\n",
              "      <th>NikeFuel (count)</th>\n",
              "      <th>Number of Times Fallen (count)</th>\n",
              "      <th>Oxygen Saturation (%)</th>\n",
              "      <th>Pantothenic Acid (mg)</th>\n",
              "      <th>Peak Expiratory Flow Rate (L/min)</th>\n",
              "      <th>Peripheral Perfusion Index (%)</th>\n",
              "      <th>Phosphorus (mg)</th>\n",
              "      <th>Polyunsaturated Fat (g)</th>\n",
              "      <th>Potassium (mg)</th>\n",
              "      <th>Protein (g)</th>\n",
              "      <th>Respiratory Rate (count/min)</th>\n",
              "      <th>Resting Calories (kcal)</th>\n",
              "      <th>Riboflavin (mg)</th>\n",
              "      <th>Saturated Fat (g)</th>\n",
              "      <th>Selenium (mcg)</th>\n",
              "      <th>Sodium (mg)</th>\n",
              "      <th>Steps (count)</th>\n",
              "      <th>Sugar (g)</th>\n",
              "      <th>Thiamin (mg)</th>\n",
              "      <th>Total Fat (g)</th>\n",
              "      <th>Vitamin A (mcg)</th>\n",
              "      <th>Vitamin B12 (mcg)</th>\n",
              "      <th>Vitamin B6 (mg)</th>\n",
              "      <th>Vitamin C (mg)</th>\n",
              "      <th>Vitamin D (mcg)</th>\n",
              "      <th>Vitamin E (mg)</th>\n",
              "      <th>Vitamin K (mcg)</th>\n",
              "      <th>Weight (kg)</th>\n",
              "      <th>Dietary Water (L)</th>\n",
              "      <th>Zinc (mg)</th>\n",
              "      <th>UV Exposure (count)</th>\n",
              "    </tr>\n",
              "  </thead>\n",
              "  <tbody>\n",
              "    <tr>\n",
              "      <th>0</th>\n",
              "      <td>06-Aug-2015 00:00</td>\n",
              "      <td>07-Aug-2015 00:00</td>\n",
              "      <td>0.0</td>\n",
              "      <td>0.0</td>\n",
              "      <td>0.0</td>\n",
              "      <td>79.268587</td>\n",
              "      <td>0.0</td>\n",
              "      <td>0.0</td>\n",
              "      <td>0.0</td>\n",
              "      <td>0.0</td>\n",
              "      <td>0.0</td>\n",
              "      <td>0.0</td>\n",
              "      <td>0.0</td>\n",
              "      <td>0.0</td>\n",
              "      <td>0.0</td>\n",
              "      <td>0.0</td>\n",
              "      <td>0.0</td>\n",
              "      <td>0.0</td>\n",
              "      <td>0.0</td>\n",
              "      <td>0.0</td>\n",
              "      <td>0.0</td>\n",
              "      <td>0.0</td>\n",
              "      <td>0.0</td>\n",
              "      <td>0.0</td>\n",
              "      <td>0.0</td>\n",
              "      <td>0.0</td>\n",
              "      <td>0.0</td>\n",
              "      <td>0.0</td>\n",
              "      <td>0.0</td>\n",
              "      <td>0.0</td>\n",
              "      <td>0.0</td>\n",
              "      <td>0.0</td>\n",
              "      <td>0.0</td>\n",
              "      <td>0.0</td>\n",
              "      <td>0.0</td>\n",
              "      <td>0.0</td>\n",
              "      <td>0.0</td>\n",
              "      <td>0.0</td>\n",
              "      <td>0.0</td>\n",
              "      <td>0.0</td>\n",
              "      <td>0.0</td>\n",
              "      <td>0.0</td>\n",
              "      <td>0.0</td>\n",
              "      <td>0.0</td>\n",
              "      <td>0.0</td>\n",
              "      <td>0.0</td>\n",
              "      <td>0.0</td>\n",
              "      <td>0.0</td>\n",
              "      <td>0.0</td>\n",
              "      <td>0.0</td>\n",
              "      <td>0.0</td>\n",
              "      <td>0.0</td>\n",
              "      <td>0.0</td>\n",
              "      <td>0.0</td>\n",
              "      <td>0.0</td>\n",
              "      <td>0.0</td>\n",
              "      <td>0.0</td>\n",
              "      <td>0.0</td>\n",
              "      <td>0.0</td>\n",
              "      <td>0.0</td>\n",
              "      <td>0.0</td>\n",
              "      <td>0.0</td>\n",
              "      <td>0.0</td>\n",
              "      <td>0.0</td>\n",
              "      <td>0.0</td>\n",
              "      <td>0.0</td>\n",
              "      <td>0.0</td>\n",
              "      <td>0.0</td>\n",
              "    </tr>\n",
              "    <tr>\n",
              "      <th>1</th>\n",
              "      <td>07-Aug-2015 00:00</td>\n",
              "      <td>08-Aug-2015 00:00</td>\n",
              "      <td>0.0</td>\n",
              "      <td>0.0</td>\n",
              "      <td>0.0</td>\n",
              "      <td>0.000000</td>\n",
              "      <td>0.0</td>\n",
              "      <td>0.0</td>\n",
              "      <td>0.0</td>\n",
              "      <td>0.0</td>\n",
              "      <td>0.0</td>\n",
              "      <td>0.0</td>\n",
              "      <td>0.0</td>\n",
              "      <td>0.0</td>\n",
              "      <td>0.0</td>\n",
              "      <td>0.0</td>\n",
              "      <td>0.0</td>\n",
              "      <td>0.0</td>\n",
              "      <td>0.0</td>\n",
              "      <td>0.0</td>\n",
              "      <td>0.0</td>\n",
              "      <td>0.0</td>\n",
              "      <td>0.0</td>\n",
              "      <td>0.0</td>\n",
              "      <td>0.0</td>\n",
              "      <td>0.0</td>\n",
              "      <td>0.0</td>\n",
              "      <td>0.0</td>\n",
              "      <td>0.0</td>\n",
              "      <td>0.0</td>\n",
              "      <td>0.0</td>\n",
              "      <td>0.0</td>\n",
              "      <td>0.0</td>\n",
              "      <td>0.0</td>\n",
              "      <td>0.0</td>\n",
              "      <td>0.0</td>\n",
              "      <td>0.0</td>\n",
              "      <td>0.0</td>\n",
              "      <td>0.0</td>\n",
              "      <td>0.0</td>\n",
              "      <td>0.0</td>\n",
              "      <td>0.0</td>\n",
              "      <td>0.0</td>\n",
              "      <td>0.0</td>\n",
              "      <td>0.0</td>\n",
              "      <td>0.0</td>\n",
              "      <td>0.0</td>\n",
              "      <td>0.0</td>\n",
              "      <td>0.0</td>\n",
              "      <td>0.0</td>\n",
              "      <td>0.0</td>\n",
              "      <td>0.0</td>\n",
              "      <td>0.0</td>\n",
              "      <td>0.0</td>\n",
              "      <td>0.0</td>\n",
              "      <td>0.0</td>\n",
              "      <td>0.0</td>\n",
              "      <td>0.0</td>\n",
              "      <td>0.0</td>\n",
              "      <td>0.0</td>\n",
              "      <td>0.0</td>\n",
              "      <td>0.0</td>\n",
              "      <td>0.0</td>\n",
              "      <td>0.0</td>\n",
              "      <td>0.0</td>\n",
              "      <td>0.0</td>\n",
              "      <td>0.0</td>\n",
              "      <td>0.0</td>\n",
              "    </tr>\n",
              "    <tr>\n",
              "      <th>2</th>\n",
              "      <td>08-Aug-2015 00:00</td>\n",
              "      <td>09-Aug-2015 00:00</td>\n",
              "      <td>0.0</td>\n",
              "      <td>0.0</td>\n",
              "      <td>0.0</td>\n",
              "      <td>0.000000</td>\n",
              "      <td>0.0</td>\n",
              "      <td>0.0</td>\n",
              "      <td>0.0</td>\n",
              "      <td>0.0</td>\n",
              "      <td>0.0</td>\n",
              "      <td>0.0</td>\n",
              "      <td>0.0</td>\n",
              "      <td>0.0</td>\n",
              "      <td>0.0</td>\n",
              "      <td>0.0</td>\n",
              "      <td>0.0</td>\n",
              "      <td>0.0</td>\n",
              "      <td>0.0</td>\n",
              "      <td>0.0</td>\n",
              "      <td>0.0</td>\n",
              "      <td>0.0</td>\n",
              "      <td>0.0</td>\n",
              "      <td>0.0</td>\n",
              "      <td>0.0</td>\n",
              "      <td>0.0</td>\n",
              "      <td>0.0</td>\n",
              "      <td>0.0</td>\n",
              "      <td>0.0</td>\n",
              "      <td>0.0</td>\n",
              "      <td>0.0</td>\n",
              "      <td>0.0</td>\n",
              "      <td>0.0</td>\n",
              "      <td>0.0</td>\n",
              "      <td>0.0</td>\n",
              "      <td>0.0</td>\n",
              "      <td>0.0</td>\n",
              "      <td>0.0</td>\n",
              "      <td>0.0</td>\n",
              "      <td>0.0</td>\n",
              "      <td>0.0</td>\n",
              "      <td>0.0</td>\n",
              "      <td>0.0</td>\n",
              "      <td>0.0</td>\n",
              "      <td>0.0</td>\n",
              "      <td>0.0</td>\n",
              "      <td>0.0</td>\n",
              "      <td>0.0</td>\n",
              "      <td>0.0</td>\n",
              "      <td>0.0</td>\n",
              "      <td>0.0</td>\n",
              "      <td>0.0</td>\n",
              "      <td>0.0</td>\n",
              "      <td>0.0</td>\n",
              "      <td>0.0</td>\n",
              "      <td>0.0</td>\n",
              "      <td>0.0</td>\n",
              "      <td>0.0</td>\n",
              "      <td>0.0</td>\n",
              "      <td>0.0</td>\n",
              "      <td>0.0</td>\n",
              "      <td>0.0</td>\n",
              "      <td>0.0</td>\n",
              "      <td>0.0</td>\n",
              "      <td>0.0</td>\n",
              "      <td>0.0</td>\n",
              "      <td>0.0</td>\n",
              "      <td>0.0</td>\n",
              "    </tr>\n",
              "    <tr>\n",
              "      <th>3</th>\n",
              "      <td>09-Aug-2015 00:00</td>\n",
              "      <td>10-Aug-2015 00:00</td>\n",
              "      <td>0.0</td>\n",
              "      <td>0.0</td>\n",
              "      <td>0.0</td>\n",
              "      <td>0.000000</td>\n",
              "      <td>0.0</td>\n",
              "      <td>0.0</td>\n",
              "      <td>0.0</td>\n",
              "      <td>0.0</td>\n",
              "      <td>0.0</td>\n",
              "      <td>0.0</td>\n",
              "      <td>0.0</td>\n",
              "      <td>0.0</td>\n",
              "      <td>0.0</td>\n",
              "      <td>0.0</td>\n",
              "      <td>0.0</td>\n",
              "      <td>0.0</td>\n",
              "      <td>0.0</td>\n",
              "      <td>0.0</td>\n",
              "      <td>0.0</td>\n",
              "      <td>0.0</td>\n",
              "      <td>0.0</td>\n",
              "      <td>0.0</td>\n",
              "      <td>0.0</td>\n",
              "      <td>0.0</td>\n",
              "      <td>0.0</td>\n",
              "      <td>0.0</td>\n",
              "      <td>0.0</td>\n",
              "      <td>0.0</td>\n",
              "      <td>0.0</td>\n",
              "      <td>0.0</td>\n",
              "      <td>0.0</td>\n",
              "      <td>0.0</td>\n",
              "      <td>0.0</td>\n",
              "      <td>0.0</td>\n",
              "      <td>0.0</td>\n",
              "      <td>0.0</td>\n",
              "      <td>0.0</td>\n",
              "      <td>0.0</td>\n",
              "      <td>0.0</td>\n",
              "      <td>0.0</td>\n",
              "      <td>0.0</td>\n",
              "      <td>0.0</td>\n",
              "      <td>0.0</td>\n",
              "      <td>0.0</td>\n",
              "      <td>0.0</td>\n",
              "      <td>0.0</td>\n",
              "      <td>0.0</td>\n",
              "      <td>0.0</td>\n",
              "      <td>0.0</td>\n",
              "      <td>0.0</td>\n",
              "      <td>0.0</td>\n",
              "      <td>0.0</td>\n",
              "      <td>0.0</td>\n",
              "      <td>0.0</td>\n",
              "      <td>0.0</td>\n",
              "      <td>0.0</td>\n",
              "      <td>0.0</td>\n",
              "      <td>0.0</td>\n",
              "      <td>0.0</td>\n",
              "      <td>0.0</td>\n",
              "      <td>0.0</td>\n",
              "      <td>0.0</td>\n",
              "      <td>0.0</td>\n",
              "      <td>0.0</td>\n",
              "      <td>0.0</td>\n",
              "      <td>0.0</td>\n",
              "    </tr>\n",
              "    <tr>\n",
              "      <th>4</th>\n",
              "      <td>10-Aug-2015 00:00</td>\n",
              "      <td>11-Aug-2015 00:00</td>\n",
              "      <td>0.0</td>\n",
              "      <td>0.0</td>\n",
              "      <td>0.0</td>\n",
              "      <td>0.000000</td>\n",
              "      <td>0.0</td>\n",
              "      <td>0.0</td>\n",
              "      <td>0.0</td>\n",
              "      <td>0.0</td>\n",
              "      <td>0.0</td>\n",
              "      <td>0.0</td>\n",
              "      <td>0.0</td>\n",
              "      <td>0.0</td>\n",
              "      <td>0.0</td>\n",
              "      <td>0.0</td>\n",
              "      <td>0.0</td>\n",
              "      <td>0.0</td>\n",
              "      <td>0.0</td>\n",
              "      <td>0.0</td>\n",
              "      <td>0.0</td>\n",
              "      <td>0.0</td>\n",
              "      <td>0.0</td>\n",
              "      <td>0.0</td>\n",
              "      <td>0.0</td>\n",
              "      <td>0.0</td>\n",
              "      <td>0.0</td>\n",
              "      <td>0.0</td>\n",
              "      <td>0.0</td>\n",
              "      <td>0.0</td>\n",
              "      <td>0.0</td>\n",
              "      <td>0.0</td>\n",
              "      <td>0.0</td>\n",
              "      <td>0.0</td>\n",
              "      <td>0.0</td>\n",
              "      <td>0.0</td>\n",
              "      <td>0.0</td>\n",
              "      <td>0.0</td>\n",
              "      <td>0.0</td>\n",
              "      <td>0.0</td>\n",
              "      <td>0.0</td>\n",
              "      <td>0.0</td>\n",
              "      <td>0.0</td>\n",
              "      <td>0.0</td>\n",
              "      <td>0.0</td>\n",
              "      <td>0.0</td>\n",
              "      <td>0.0</td>\n",
              "      <td>0.0</td>\n",
              "      <td>0.0</td>\n",
              "      <td>0.0</td>\n",
              "      <td>0.0</td>\n",
              "      <td>0.0</td>\n",
              "      <td>0.0</td>\n",
              "      <td>0.0</td>\n",
              "      <td>0.0</td>\n",
              "      <td>0.0</td>\n",
              "      <td>0.0</td>\n",
              "      <td>0.0</td>\n",
              "      <td>0.0</td>\n",
              "      <td>0.0</td>\n",
              "      <td>0.0</td>\n",
              "      <td>0.0</td>\n",
              "      <td>0.0</td>\n",
              "      <td>0.0</td>\n",
              "      <td>0.0</td>\n",
              "      <td>0.0</td>\n",
              "      <td>0.0</td>\n",
              "      <td>0.0</td>\n",
              "    </tr>\n",
              "  </tbody>\n",
              "</table>\n",
              "</div>"
            ],
            "text/plain": [
              "               Start             Finish  ...  Zinc (mg)  UV Exposure (count)\n",
              "0  06-Aug-2015 00:00  07-Aug-2015 00:00  ...        0.0                  0.0\n",
              "1  07-Aug-2015 00:00  08-Aug-2015 00:00  ...        0.0                  0.0\n",
              "2  08-Aug-2015 00:00  09-Aug-2015 00:00  ...        0.0                  0.0\n",
              "3  09-Aug-2015 00:00  10-Aug-2015 00:00  ...        0.0                  0.0\n",
              "4  10-Aug-2015 00:00  11-Aug-2015 00:00  ...        0.0                  0.0\n",
              "\n",
              "[5 rows x 68 columns]"
            ]
          },
          "metadata": {
            "tags": []
          },
          "execution_count": 5
        }
      ]
    },
    {
      "cell_type": "code",
      "metadata": {
        "colab": {
          "base_uri": "https://localhost:8080/",
          "height": 547
        },
        "id": "PYDRxSnSoOMa",
        "outputId": "ea0a1a6b-37a7-4c47-e53f-f582cc610911"
      },
      "source": [
        "data.tail()"
      ],
      "execution_count": 6,
      "outputs": [
        {
          "output_type": "execute_result",
          "data": {
            "text/html": [
              "<div>\n",
              "<style scoped>\n",
              "    .dataframe tbody tr th:only-of-type {\n",
              "        vertical-align: middle;\n",
              "    }\n",
              "\n",
              "    .dataframe tbody tr th {\n",
              "        vertical-align: top;\n",
              "    }\n",
              "\n",
              "    .dataframe thead th {\n",
              "        text-align: right;\n",
              "    }\n",
              "</style>\n",
              "<table border=\"1\" class=\"dataframe\">\n",
              "  <thead>\n",
              "    <tr style=\"text-align: right;\">\n",
              "      <th></th>\n",
              "      <th>Start</th>\n",
              "      <th>Finish</th>\n",
              "      <th>Active Calories (kcal)</th>\n",
              "      <th>Biotin (mcg)</th>\n",
              "      <th>Blood Alcohol Content (%)</th>\n",
              "      <th>Blood Glucose (mg/dL)</th>\n",
              "      <th>Blood Pressure (Diastolic) (mmHg)</th>\n",
              "      <th>Blood Pressure (Systolic) (mmHg)</th>\n",
              "      <th>Body Fat Percentage (%)</th>\n",
              "      <th>Body Mass Index (count)</th>\n",
              "      <th>Body Temperature (degC)</th>\n",
              "      <th>Basal Body Temperature (degC)</th>\n",
              "      <th>Caffeine (mg)</th>\n",
              "      <th>Calcium (mg)</th>\n",
              "      <th>Carbohydrates (mg)</th>\n",
              "      <th>Chloride (mg)</th>\n",
              "      <th>Cholesterol (mg)</th>\n",
              "      <th>Chromium (mcg)</th>\n",
              "      <th>Copper (mcg)</th>\n",
              "      <th>Cycling Distance (mi)</th>\n",
              "      <th>Dietary Calories (cal)</th>\n",
              "      <th>Distance (km)</th>\n",
              "      <th>Electrodermal Activity (mcS)</th>\n",
              "      <th>Fiber (g)</th>\n",
              "      <th>Flights Climbed (count)</th>\n",
              "      <th>Folate (mcg)</th>\n",
              "      <th>Forced Expiratory Volume (L)</th>\n",
              "      <th>Forced Vital Capacity (L)</th>\n",
              "      <th>Heart Rate (count/min)</th>\n",
              "      <th>Inhaler Usage (count)</th>\n",
              "      <th>Iodine (mcg)</th>\n",
              "      <th>Lean Body Mass (kg)</th>\n",
              "      <th>Magnesium (mg)</th>\n",
              "      <th>Manganese (mg)</th>\n",
              "      <th>Molybdenum (mcg)</th>\n",
              "      <th>Monosaturated Fat (g)</th>\n",
              "      <th>Niacin (mg)</th>\n",
              "      <th>NikeFuel (count)</th>\n",
              "      <th>Number of Times Fallen (count)</th>\n",
              "      <th>Oxygen Saturation (%)</th>\n",
              "      <th>Pantothenic Acid (mg)</th>\n",
              "      <th>Peak Expiratory Flow Rate (L/min)</th>\n",
              "      <th>Peripheral Perfusion Index (%)</th>\n",
              "      <th>Phosphorus (mg)</th>\n",
              "      <th>Polyunsaturated Fat (g)</th>\n",
              "      <th>Potassium (mg)</th>\n",
              "      <th>Protein (g)</th>\n",
              "      <th>Respiratory Rate (count/min)</th>\n",
              "      <th>Resting Calories (kcal)</th>\n",
              "      <th>Riboflavin (mg)</th>\n",
              "      <th>Saturated Fat (g)</th>\n",
              "      <th>Selenium (mcg)</th>\n",
              "      <th>Sodium (mg)</th>\n",
              "      <th>Steps (count)</th>\n",
              "      <th>Sugar (g)</th>\n",
              "      <th>Thiamin (mg)</th>\n",
              "      <th>Total Fat (g)</th>\n",
              "      <th>Vitamin A (mcg)</th>\n",
              "      <th>Vitamin B12 (mcg)</th>\n",
              "      <th>Vitamin B6 (mg)</th>\n",
              "      <th>Vitamin C (mg)</th>\n",
              "      <th>Vitamin D (mcg)</th>\n",
              "      <th>Vitamin E (mg)</th>\n",
              "      <th>Vitamin K (mcg)</th>\n",
              "      <th>Weight (kg)</th>\n",
              "      <th>Dietary Water (L)</th>\n",
              "      <th>Zinc (mg)</th>\n",
              "      <th>UV Exposure (count)</th>\n",
              "    </tr>\n",
              "  </thead>\n",
              "  <tbody>\n",
              "    <tr>\n",
              "      <th>762</th>\n",
              "      <td>06-Sep-2017 00:00</td>\n",
              "      <td>07-Sep-2017 00:00</td>\n",
              "      <td>416.007722</td>\n",
              "      <td>0.0</td>\n",
              "      <td>0.0</td>\n",
              "      <td>0.0</td>\n",
              "      <td>0.0</td>\n",
              "      <td>0.0</td>\n",
              "      <td>0.00</td>\n",
              "      <td>0.0</td>\n",
              "      <td>0.0</td>\n",
              "      <td>0.0</td>\n",
              "      <td>0.0</td>\n",
              "      <td>0.0</td>\n",
              "      <td>0.0</td>\n",
              "      <td>0.0</td>\n",
              "      <td>0.0</td>\n",
              "      <td>0.0</td>\n",
              "      <td>0.0</td>\n",
              "      <td>0.0</td>\n",
              "      <td>0.0</td>\n",
              "      <td>7.115341</td>\n",
              "      <td>0.0</td>\n",
              "      <td>0.0</td>\n",
              "      <td>21.0</td>\n",
              "      <td>0.0</td>\n",
              "      <td>0.0</td>\n",
              "      <td>0.0</td>\n",
              "      <td>132.0</td>\n",
              "      <td>0.0</td>\n",
              "      <td>0.0</td>\n",
              "      <td>0.000</td>\n",
              "      <td>0.0</td>\n",
              "      <td>0.0</td>\n",
              "      <td>0.0</td>\n",
              "      <td>0.0</td>\n",
              "      <td>0.0</td>\n",
              "      <td>0.0</td>\n",
              "      <td>0.0</td>\n",
              "      <td>0.0</td>\n",
              "      <td>0.0</td>\n",
              "      <td>0.0</td>\n",
              "      <td>0.0</td>\n",
              "      <td>0.0</td>\n",
              "      <td>0.0</td>\n",
              "      <td>0.0</td>\n",
              "      <td>0.0</td>\n",
              "      <td>0.0</td>\n",
              "      <td>1592.209780</td>\n",
              "      <td>0.0</td>\n",
              "      <td>0.0</td>\n",
              "      <td>0.0</td>\n",
              "      <td>0.0</td>\n",
              "      <td>9240.202021</td>\n",
              "      <td>0.0</td>\n",
              "      <td>0.0</td>\n",
              "      <td>0.0</td>\n",
              "      <td>0.0</td>\n",
              "      <td>0.0</td>\n",
              "      <td>0.0</td>\n",
              "      <td>0.0</td>\n",
              "      <td>0.0</td>\n",
              "      <td>0.0</td>\n",
              "      <td>0.0</td>\n",
              "      <td>0.00</td>\n",
              "      <td>0.0</td>\n",
              "      <td>0.0</td>\n",
              "      <td>0.0</td>\n",
              "    </tr>\n",
              "    <tr>\n",
              "      <th>763</th>\n",
              "      <td>07-Sep-2017 00:00</td>\n",
              "      <td>08-Sep-2017 00:00</td>\n",
              "      <td>657.412282</td>\n",
              "      <td>0.0</td>\n",
              "      <td>0.0</td>\n",
              "      <td>0.0</td>\n",
              "      <td>0.0</td>\n",
              "      <td>0.0</td>\n",
              "      <td>0.12</td>\n",
              "      <td>18.6</td>\n",
              "      <td>0.0</td>\n",
              "      <td>0.0</td>\n",
              "      <td>0.0</td>\n",
              "      <td>0.0</td>\n",
              "      <td>0.0</td>\n",
              "      <td>0.0</td>\n",
              "      <td>0.0</td>\n",
              "      <td>0.0</td>\n",
              "      <td>0.0</td>\n",
              "      <td>0.0</td>\n",
              "      <td>0.0</td>\n",
              "      <td>7.555005</td>\n",
              "      <td>0.0</td>\n",
              "      <td>0.0</td>\n",
              "      <td>19.0</td>\n",
              "      <td>0.0</td>\n",
              "      <td>0.0</td>\n",
              "      <td>0.0</td>\n",
              "      <td>162.0</td>\n",
              "      <td>0.0</td>\n",
              "      <td>0.0</td>\n",
              "      <td>51.348</td>\n",
              "      <td>0.0</td>\n",
              "      <td>0.0</td>\n",
              "      <td>0.0</td>\n",
              "      <td>0.0</td>\n",
              "      <td>0.0</td>\n",
              "      <td>0.0</td>\n",
              "      <td>0.0</td>\n",
              "      <td>0.0</td>\n",
              "      <td>0.0</td>\n",
              "      <td>0.0</td>\n",
              "      <td>0.0</td>\n",
              "      <td>0.0</td>\n",
              "      <td>0.0</td>\n",
              "      <td>0.0</td>\n",
              "      <td>0.0</td>\n",
              "      <td>0.0</td>\n",
              "      <td>1601.301638</td>\n",
              "      <td>0.0</td>\n",
              "      <td>0.0</td>\n",
              "      <td>0.0</td>\n",
              "      <td>0.0</td>\n",
              "      <td>9711.000000</td>\n",
              "      <td>0.0</td>\n",
              "      <td>0.0</td>\n",
              "      <td>0.0</td>\n",
              "      <td>0.0</td>\n",
              "      <td>0.0</td>\n",
              "      <td>0.0</td>\n",
              "      <td>0.0</td>\n",
              "      <td>0.0</td>\n",
              "      <td>0.0</td>\n",
              "      <td>0.0</td>\n",
              "      <td>58.35</td>\n",
              "      <td>0.0</td>\n",
              "      <td>0.0</td>\n",
              "      <td>0.0</td>\n",
              "    </tr>\n",
              "    <tr>\n",
              "      <th>764</th>\n",
              "      <td>08-Sep-2017 00:00</td>\n",
              "      <td>09-Sep-2017 00:00</td>\n",
              "      <td>332.833916</td>\n",
              "      <td>0.0</td>\n",
              "      <td>0.0</td>\n",
              "      <td>0.0</td>\n",
              "      <td>0.0</td>\n",
              "      <td>0.0</td>\n",
              "      <td>0.00</td>\n",
              "      <td>0.0</td>\n",
              "      <td>0.0</td>\n",
              "      <td>0.0</td>\n",
              "      <td>0.0</td>\n",
              "      <td>0.0</td>\n",
              "      <td>0.0</td>\n",
              "      <td>0.0</td>\n",
              "      <td>0.0</td>\n",
              "      <td>0.0</td>\n",
              "      <td>0.0</td>\n",
              "      <td>0.0</td>\n",
              "      <td>0.0</td>\n",
              "      <td>5.087559</td>\n",
              "      <td>0.0</td>\n",
              "      <td>0.0</td>\n",
              "      <td>10.0</td>\n",
              "      <td>0.0</td>\n",
              "      <td>0.0</td>\n",
              "      <td>0.0</td>\n",
              "      <td>107.0</td>\n",
              "      <td>0.0</td>\n",
              "      <td>0.0</td>\n",
              "      <td>0.000</td>\n",
              "      <td>0.0</td>\n",
              "      <td>0.0</td>\n",
              "      <td>0.0</td>\n",
              "      <td>0.0</td>\n",
              "      <td>0.0</td>\n",
              "      <td>0.0</td>\n",
              "      <td>0.0</td>\n",
              "      <td>0.0</td>\n",
              "      <td>0.0</td>\n",
              "      <td>0.0</td>\n",
              "      <td>0.0</td>\n",
              "      <td>0.0</td>\n",
              "      <td>0.0</td>\n",
              "      <td>0.0</td>\n",
              "      <td>0.0</td>\n",
              "      <td>0.0</td>\n",
              "      <td>1579.810541</td>\n",
              "      <td>0.0</td>\n",
              "      <td>0.0</td>\n",
              "      <td>0.0</td>\n",
              "      <td>0.0</td>\n",
              "      <td>6691.846079</td>\n",
              "      <td>0.0</td>\n",
              "      <td>0.0</td>\n",
              "      <td>0.0</td>\n",
              "      <td>0.0</td>\n",
              "      <td>0.0</td>\n",
              "      <td>0.0</td>\n",
              "      <td>0.0</td>\n",
              "      <td>0.0</td>\n",
              "      <td>0.0</td>\n",
              "      <td>0.0</td>\n",
              "      <td>0.00</td>\n",
              "      <td>0.0</td>\n",
              "      <td>0.0</td>\n",
              "      <td>0.0</td>\n",
              "    </tr>\n",
              "    <tr>\n",
              "      <th>765</th>\n",
              "      <td>09-Sep-2017 00:00</td>\n",
              "      <td>10-Sep-2017 00:00</td>\n",
              "      <td>429.742219</td>\n",
              "      <td>0.0</td>\n",
              "      <td>0.0</td>\n",
              "      <td>0.0</td>\n",
              "      <td>0.0</td>\n",
              "      <td>0.0</td>\n",
              "      <td>0.00</td>\n",
              "      <td>0.0</td>\n",
              "      <td>0.0</td>\n",
              "      <td>0.0</td>\n",
              "      <td>0.0</td>\n",
              "      <td>0.0</td>\n",
              "      <td>0.0</td>\n",
              "      <td>0.0</td>\n",
              "      <td>0.0</td>\n",
              "      <td>0.0</td>\n",
              "      <td>0.0</td>\n",
              "      <td>0.0</td>\n",
              "      <td>0.0</td>\n",
              "      <td>7.816389</td>\n",
              "      <td>0.0</td>\n",
              "      <td>0.0</td>\n",
              "      <td>7.0</td>\n",
              "      <td>0.0</td>\n",
              "      <td>0.0</td>\n",
              "      <td>0.0</td>\n",
              "      <td>105.0</td>\n",
              "      <td>0.0</td>\n",
              "      <td>0.0</td>\n",
              "      <td>0.000</td>\n",
              "      <td>0.0</td>\n",
              "      <td>0.0</td>\n",
              "      <td>0.0</td>\n",
              "      <td>0.0</td>\n",
              "      <td>0.0</td>\n",
              "      <td>0.0</td>\n",
              "      <td>0.0</td>\n",
              "      <td>0.0</td>\n",
              "      <td>0.0</td>\n",
              "      <td>0.0</td>\n",
              "      <td>0.0</td>\n",
              "      <td>0.0</td>\n",
              "      <td>0.0</td>\n",
              "      <td>0.0</td>\n",
              "      <td>0.0</td>\n",
              "      <td>0.0</td>\n",
              "      <td>1605.664488</td>\n",
              "      <td>0.0</td>\n",
              "      <td>0.0</td>\n",
              "      <td>0.0</td>\n",
              "      <td>0.0</td>\n",
              "      <td>10102.153921</td>\n",
              "      <td>0.0</td>\n",
              "      <td>0.0</td>\n",
              "      <td>0.0</td>\n",
              "      <td>0.0</td>\n",
              "      <td>0.0</td>\n",
              "      <td>0.0</td>\n",
              "      <td>0.0</td>\n",
              "      <td>0.0</td>\n",
              "      <td>0.0</td>\n",
              "      <td>0.0</td>\n",
              "      <td>0.00</td>\n",
              "      <td>0.0</td>\n",
              "      <td>0.0</td>\n",
              "      <td>0.0</td>\n",
              "    </tr>\n",
              "    <tr>\n",
              "      <th>766</th>\n",
              "      <td>10-Sep-2017 00:00</td>\n",
              "      <td>11-Sep-2017 00:00</td>\n",
              "      <td>309.694532</td>\n",
              "      <td>0.0</td>\n",
              "      <td>0.0</td>\n",
              "      <td>0.0</td>\n",
              "      <td>0.0</td>\n",
              "      <td>0.0</td>\n",
              "      <td>0.00</td>\n",
              "      <td>0.0</td>\n",
              "      <td>0.0</td>\n",
              "      <td>0.0</td>\n",
              "      <td>0.0</td>\n",
              "      <td>0.0</td>\n",
              "      <td>0.0</td>\n",
              "      <td>0.0</td>\n",
              "      <td>0.0</td>\n",
              "      <td>0.0</td>\n",
              "      <td>0.0</td>\n",
              "      <td>0.0</td>\n",
              "      <td>0.0</td>\n",
              "      <td>2.485014</td>\n",
              "      <td>0.0</td>\n",
              "      <td>0.0</td>\n",
              "      <td>0.0</td>\n",
              "      <td>0.0</td>\n",
              "      <td>0.0</td>\n",
              "      <td>0.0</td>\n",
              "      <td>140.0</td>\n",
              "      <td>0.0</td>\n",
              "      <td>0.0</td>\n",
              "      <td>0.000</td>\n",
              "      <td>0.0</td>\n",
              "      <td>0.0</td>\n",
              "      <td>0.0</td>\n",
              "      <td>0.0</td>\n",
              "      <td>0.0</td>\n",
              "      <td>0.0</td>\n",
              "      <td>0.0</td>\n",
              "      <td>0.0</td>\n",
              "      <td>0.0</td>\n",
              "      <td>0.0</td>\n",
              "      <td>0.0</td>\n",
              "      <td>0.0</td>\n",
              "      <td>0.0</td>\n",
              "      <td>0.0</td>\n",
              "      <td>0.0</td>\n",
              "      <td>0.0</td>\n",
              "      <td>837.291716</td>\n",
              "      <td>0.0</td>\n",
              "      <td>0.0</td>\n",
              "      <td>0.0</td>\n",
              "      <td>0.0</td>\n",
              "      <td>3186.000000</td>\n",
              "      <td>0.0</td>\n",
              "      <td>0.0</td>\n",
              "      <td>0.0</td>\n",
              "      <td>0.0</td>\n",
              "      <td>0.0</td>\n",
              "      <td>0.0</td>\n",
              "      <td>0.0</td>\n",
              "      <td>0.0</td>\n",
              "      <td>0.0</td>\n",
              "      <td>0.0</td>\n",
              "      <td>0.00</td>\n",
              "      <td>0.0</td>\n",
              "      <td>0.0</td>\n",
              "      <td>0.0</td>\n",
              "    </tr>\n",
              "  </tbody>\n",
              "</table>\n",
              "</div>"
            ],
            "text/plain": [
              "                 Start             Finish  ...  Zinc (mg)  UV Exposure (count)\n",
              "762  06-Sep-2017 00:00  07-Sep-2017 00:00  ...        0.0                  0.0\n",
              "763  07-Sep-2017 00:00  08-Sep-2017 00:00  ...        0.0                  0.0\n",
              "764  08-Sep-2017 00:00  09-Sep-2017 00:00  ...        0.0                  0.0\n",
              "765  09-Sep-2017 00:00  10-Sep-2017 00:00  ...        0.0                  0.0\n",
              "766  10-Sep-2017 00:00  11-Sep-2017 00:00  ...        0.0                  0.0\n",
              "\n",
              "[5 rows x 68 columns]"
            ]
          },
          "metadata": {
            "tags": []
          },
          "execution_count": 6
        }
      ]
    },
    {
      "cell_type": "markdown",
      "metadata": {
        "id": "MpqtMVmqoOMd"
      },
      "source": [
        "To see the column headers or variables in the dataset:"
      ]
    },
    {
      "cell_type": "code",
      "metadata": {
        "colab": {
          "base_uri": "https://localhost:8080/"
        },
        "id": "xpjJIQOQoOMi",
        "outputId": "dc6d0c6a-c79c-4942-f5d0-6e4c9e8a2bcb"
      },
      "source": [
        "data.columns\n"
      ],
      "execution_count": 7,
      "outputs": [
        {
          "output_type": "execute_result",
          "data": {
            "text/plain": [
              "Index(['Start', 'Finish', 'Active Calories (kcal)', 'Biotin (mcg)',\n",
              "       'Blood Alcohol Content (%)', 'Blood Glucose (mg/dL)',\n",
              "       'Blood Pressure (Diastolic) (mmHg)', 'Blood Pressure (Systolic) (mmHg)',\n",
              "       'Body Fat Percentage (%)', 'Body Mass Index (count)',\n",
              "       'Body Temperature (degC)', 'Basal Body Temperature (degC)',\n",
              "       'Caffeine (mg)', 'Calcium (mg)', 'Carbohydrates (mg)', 'Chloride (mg)',\n",
              "       'Cholesterol (mg)', 'Chromium (mcg)', 'Copper (mcg)',\n",
              "       'Cycling Distance (mi)', 'Dietary Calories (cal)', 'Distance (km)',\n",
              "       'Electrodermal Activity (mcS)', 'Fiber (g)', 'Flights Climbed (count)',\n",
              "       'Folate (mcg)', 'Forced Expiratory Volume (L)',\n",
              "       'Forced Vital Capacity (L)', 'Heart Rate (count/min)',\n",
              "       'Inhaler Usage (count)', 'Iodine (mcg)', 'Lean Body Mass (kg)',\n",
              "       'Magnesium (mg)', 'Manganese (mg)', 'Molybdenum (mcg)',\n",
              "       'Monosaturated Fat (g)', 'Niacin (mg)', 'NikeFuel (count)',\n",
              "       'Number of Times Fallen (count)', 'Oxygen Saturation (%)',\n",
              "       'Pantothenic Acid (mg)', 'Peak Expiratory Flow Rate (L/min)',\n",
              "       'Peripheral Perfusion Index (%)', 'Phosphorus (mg)',\n",
              "       'Polyunsaturated Fat (g)', 'Potassium (mg)', 'Protein (g)',\n",
              "       'Respiratory Rate (count/min)', 'Resting Calories (kcal)',\n",
              "       'Riboflavin (mg)', 'Saturated Fat (g)', 'Selenium (mcg)', 'Sodium (mg)',\n",
              "       'Steps (count)', 'Sugar (g)', 'Thiamin (mg)', 'Total Fat (g)',\n",
              "       'Vitamin A (mcg)', 'Vitamin B12 (mcg)', 'Vitamin B6 (mg)',\n",
              "       'Vitamin C (mg)', 'Vitamin D (mcg)', 'Vitamin E (mg)',\n",
              "       'Vitamin K (mcg)', 'Weight (kg)', 'Dietary Water (L)', 'Zinc (mg)',\n",
              "       'UV Exposure (count)'],\n",
              "      dtype='object')"
            ]
          },
          "metadata": {
            "tags": []
          },
          "execution_count": 7
        }
      ]
    },
    {
      "cell_type": "code",
      "metadata": {
        "colab": {
          "base_uri": "https://localhost:8080/",
          "height": 385
        },
        "id": "Mfwm_3Q_oOMl",
        "outputId": "22c8051c-229f-4ae4-8d34-6c62144aa631"
      },
      "source": [
        "data.describe()"
      ],
      "execution_count": 8,
      "outputs": [
        {
          "output_type": "execute_result",
          "data": {
            "text/html": [
              "<div>\n",
              "<style scoped>\n",
              "    .dataframe tbody tr th:only-of-type {\n",
              "        vertical-align: middle;\n",
              "    }\n",
              "\n",
              "    .dataframe tbody tr th {\n",
              "        vertical-align: top;\n",
              "    }\n",
              "\n",
              "    .dataframe thead th {\n",
              "        text-align: right;\n",
              "    }\n",
              "</style>\n",
              "<table border=\"1\" class=\"dataframe\">\n",
              "  <thead>\n",
              "    <tr style=\"text-align: right;\">\n",
              "      <th></th>\n",
              "      <th>Active Calories (kcal)</th>\n",
              "      <th>Biotin (mcg)</th>\n",
              "      <th>Blood Alcohol Content (%)</th>\n",
              "      <th>Blood Glucose (mg/dL)</th>\n",
              "      <th>Blood Pressure (Diastolic) (mmHg)</th>\n",
              "      <th>Blood Pressure (Systolic) (mmHg)</th>\n",
              "      <th>Body Fat Percentage (%)</th>\n",
              "      <th>Body Mass Index (count)</th>\n",
              "      <th>Body Temperature (degC)</th>\n",
              "      <th>Basal Body Temperature (degC)</th>\n",
              "      <th>Caffeine (mg)</th>\n",
              "      <th>Calcium (mg)</th>\n",
              "      <th>Carbohydrates (mg)</th>\n",
              "      <th>Chloride (mg)</th>\n",
              "      <th>Cholesterol (mg)</th>\n",
              "      <th>Chromium (mcg)</th>\n",
              "      <th>Copper (mcg)</th>\n",
              "      <th>Cycling Distance (mi)</th>\n",
              "      <th>Dietary Calories (cal)</th>\n",
              "      <th>Distance (km)</th>\n",
              "      <th>Electrodermal Activity (mcS)</th>\n",
              "      <th>Fiber (g)</th>\n",
              "      <th>Flights Climbed (count)</th>\n",
              "      <th>Folate (mcg)</th>\n",
              "      <th>Forced Expiratory Volume (L)</th>\n",
              "      <th>Forced Vital Capacity (L)</th>\n",
              "      <th>Heart Rate (count/min)</th>\n",
              "      <th>Inhaler Usage (count)</th>\n",
              "      <th>Iodine (mcg)</th>\n",
              "      <th>Lean Body Mass (kg)</th>\n",
              "      <th>Magnesium (mg)</th>\n",
              "      <th>Manganese (mg)</th>\n",
              "      <th>Molybdenum (mcg)</th>\n",
              "      <th>Monosaturated Fat (g)</th>\n",
              "      <th>Niacin (mg)</th>\n",
              "      <th>NikeFuel (count)</th>\n",
              "      <th>Number of Times Fallen (count)</th>\n",
              "      <th>Oxygen Saturation (%)</th>\n",
              "      <th>Pantothenic Acid (mg)</th>\n",
              "      <th>Peak Expiratory Flow Rate (L/min)</th>\n",
              "      <th>Peripheral Perfusion Index (%)</th>\n",
              "      <th>Phosphorus (mg)</th>\n",
              "      <th>Polyunsaturated Fat (g)</th>\n",
              "      <th>Potassium (mg)</th>\n",
              "      <th>Protein (g)</th>\n",
              "      <th>Respiratory Rate (count/min)</th>\n",
              "      <th>Resting Calories (kcal)</th>\n",
              "      <th>Riboflavin (mg)</th>\n",
              "      <th>Saturated Fat (g)</th>\n",
              "      <th>Selenium (mcg)</th>\n",
              "      <th>Sodium (mg)</th>\n",
              "      <th>Steps (count)</th>\n",
              "      <th>Sugar (g)</th>\n",
              "      <th>Thiamin (mg)</th>\n",
              "      <th>Total Fat (g)</th>\n",
              "      <th>Vitamin A (mcg)</th>\n",
              "      <th>Vitamin B12 (mcg)</th>\n",
              "      <th>Vitamin B6 (mg)</th>\n",
              "      <th>Vitamin C (mg)</th>\n",
              "      <th>Vitamin D (mcg)</th>\n",
              "      <th>Vitamin E (mg)</th>\n",
              "      <th>Vitamin K (mcg)</th>\n",
              "      <th>Weight (kg)</th>\n",
              "      <th>Dietary Water (L)</th>\n",
              "      <th>Zinc (mg)</th>\n",
              "      <th>UV Exposure (count)</th>\n",
              "    </tr>\n",
              "  </thead>\n",
              "  <tbody>\n",
              "    <tr>\n",
              "      <th>count</th>\n",
              "      <td>767.000000</td>\n",
              "      <td>767.0</td>\n",
              "      <td>767.0</td>\n",
              "      <td>767.000000</td>\n",
              "      <td>767.000000</td>\n",
              "      <td>767.000000</td>\n",
              "      <td>767.000000</td>\n",
              "      <td>767.000000</td>\n",
              "      <td>767.0</td>\n",
              "      <td>767.0</td>\n",
              "      <td>767.0</td>\n",
              "      <td>767.0</td>\n",
              "      <td>767.0</td>\n",
              "      <td>767.0</td>\n",
              "      <td>767.0</td>\n",
              "      <td>767.0</td>\n",
              "      <td>767.0</td>\n",
              "      <td>767.0</td>\n",
              "      <td>767.0</td>\n",
              "      <td>767.000000</td>\n",
              "      <td>767.0</td>\n",
              "      <td>767.0</td>\n",
              "      <td>767.000000</td>\n",
              "      <td>767.0</td>\n",
              "      <td>767.0</td>\n",
              "      <td>767.0</td>\n",
              "      <td>767.000000</td>\n",
              "      <td>767.0</td>\n",
              "      <td>767.0</td>\n",
              "      <td>767.000000</td>\n",
              "      <td>767.0</td>\n",
              "      <td>767.0</td>\n",
              "      <td>767.0</td>\n",
              "      <td>767.0</td>\n",
              "      <td>767.0</td>\n",
              "      <td>767.0</td>\n",
              "      <td>767.0</td>\n",
              "      <td>767.000000</td>\n",
              "      <td>767.0</td>\n",
              "      <td>767.0</td>\n",
              "      <td>767.0</td>\n",
              "      <td>767.0</td>\n",
              "      <td>767.0</td>\n",
              "      <td>767.0</td>\n",
              "      <td>767.0</td>\n",
              "      <td>767.0</td>\n",
              "      <td>767.000000</td>\n",
              "      <td>767.0</td>\n",
              "      <td>767.0</td>\n",
              "      <td>767.0</td>\n",
              "      <td>767.0</td>\n",
              "      <td>767.000000</td>\n",
              "      <td>767.0</td>\n",
              "      <td>767.0</td>\n",
              "      <td>767.0</td>\n",
              "      <td>767.0</td>\n",
              "      <td>767.0</td>\n",
              "      <td>767.0</td>\n",
              "      <td>767.0</td>\n",
              "      <td>767.0</td>\n",
              "      <td>767.0</td>\n",
              "      <td>767.0</td>\n",
              "      <td>767.000000</td>\n",
              "      <td>767.0</td>\n",
              "      <td>767.0</td>\n",
              "      <td>767.0</td>\n",
              "    </tr>\n",
              "    <tr>\n",
              "      <th>mean</th>\n",
              "      <td>346.623511</td>\n",
              "      <td>0.0</td>\n",
              "      <td>0.0</td>\n",
              "      <td>0.216093</td>\n",
              "      <td>0.912647</td>\n",
              "      <td>1.516297</td>\n",
              "      <td>0.016415</td>\n",
              "      <td>2.660235</td>\n",
              "      <td>0.0</td>\n",
              "      <td>0.0</td>\n",
              "      <td>0.0</td>\n",
              "      <td>0.0</td>\n",
              "      <td>0.0</td>\n",
              "      <td>0.0</td>\n",
              "      <td>0.0</td>\n",
              "      <td>0.0</td>\n",
              "      <td>0.0</td>\n",
              "      <td>0.0</td>\n",
              "      <td>0.0</td>\n",
              "      <td>5.151797</td>\n",
              "      <td>0.0</td>\n",
              "      <td>0.0</td>\n",
              "      <td>10.497070</td>\n",
              "      <td>0.0</td>\n",
              "      <td>0.0</td>\n",
              "      <td>0.0</td>\n",
              "      <td>84.238592</td>\n",
              "      <td>0.0</td>\n",
              "      <td>0.0</td>\n",
              "      <td>6.825547</td>\n",
              "      <td>0.0</td>\n",
              "      <td>0.0</td>\n",
              "      <td>0.0</td>\n",
              "      <td>0.0</td>\n",
              "      <td>0.0</td>\n",
              "      <td>0.0</td>\n",
              "      <td>0.0</td>\n",
              "      <td>0.001301</td>\n",
              "      <td>0.0</td>\n",
              "      <td>0.0</td>\n",
              "      <td>0.0</td>\n",
              "      <td>0.0</td>\n",
              "      <td>0.0</td>\n",
              "      <td>0.0</td>\n",
              "      <td>0.0</td>\n",
              "      <td>0.0</td>\n",
              "      <td>1066.357053</td>\n",
              "      <td>0.0</td>\n",
              "      <td>0.0</td>\n",
              "      <td>0.0</td>\n",
              "      <td>0.0</td>\n",
              "      <td>6511.593868</td>\n",
              "      <td>0.0</td>\n",
              "      <td>0.0</td>\n",
              "      <td>0.0</td>\n",
              "      <td>0.0</td>\n",
              "      <td>0.0</td>\n",
              "      <td>0.0</td>\n",
              "      <td>0.0</td>\n",
              "      <td>0.0</td>\n",
              "      <td>0.0</td>\n",
              "      <td>0.0</td>\n",
              "      <td>8.273077</td>\n",
              "      <td>0.0</td>\n",
              "      <td>0.0</td>\n",
              "      <td>0.0</td>\n",
              "    </tr>\n",
              "    <tr>\n",
              "      <th>std</th>\n",
              "      <td>444.076546</td>\n",
              "      <td>0.0</td>\n",
              "      <td>0.0</td>\n",
              "      <td>4.233028</td>\n",
              "      <td>7.993400</td>\n",
              "      <td>13.237120</td>\n",
              "      <td>0.041409</td>\n",
              "      <td>6.439400</td>\n",
              "      <td>0.0</td>\n",
              "      <td>0.0</td>\n",
              "      <td>0.0</td>\n",
              "      <td>0.0</td>\n",
              "      <td>0.0</td>\n",
              "      <td>0.0</td>\n",
              "      <td>0.0</td>\n",
              "      <td>0.0</td>\n",
              "      <td>0.0</td>\n",
              "      <td>0.0</td>\n",
              "      <td>0.0</td>\n",
              "      <td>3.337535</td>\n",
              "      <td>0.0</td>\n",
              "      <td>0.0</td>\n",
              "      <td>8.658144</td>\n",
              "      <td>0.0</td>\n",
              "      <td>0.0</td>\n",
              "      <td>0.0</td>\n",
              "      <td>58.875819</td>\n",
              "      <td>0.0</td>\n",
              "      <td>0.0</td>\n",
              "      <td>17.153684</td>\n",
              "      <td>0.0</td>\n",
              "      <td>0.0</td>\n",
              "      <td>0.0</td>\n",
              "      <td>0.0</td>\n",
              "      <td>0.0</td>\n",
              "      <td>0.0</td>\n",
              "      <td>0.0</td>\n",
              "      <td>0.036036</td>\n",
              "      <td>0.0</td>\n",
              "      <td>0.0</td>\n",
              "      <td>0.0</td>\n",
              "      <td>0.0</td>\n",
              "      <td>0.0</td>\n",
              "      <td>0.0</td>\n",
              "      <td>0.0</td>\n",
              "      <td>0.0</td>\n",
              "      <td>768.715982</td>\n",
              "      <td>0.0</td>\n",
              "      <td>0.0</td>\n",
              "      <td>0.0</td>\n",
              "      <td>0.0</td>\n",
              "      <td>4133.424042</td>\n",
              "      <td>0.0</td>\n",
              "      <td>0.0</td>\n",
              "      <td>0.0</td>\n",
              "      <td>0.0</td>\n",
              "      <td>0.0</td>\n",
              "      <td>0.0</td>\n",
              "      <td>0.0</td>\n",
              "      <td>0.0</td>\n",
              "      <td>0.0</td>\n",
              "      <td>0.0</td>\n",
              "      <td>20.028158</td>\n",
              "      <td>0.0</td>\n",
              "      <td>0.0</td>\n",
              "      <td>0.0</td>\n",
              "    </tr>\n",
              "    <tr>\n",
              "      <th>min</th>\n",
              "      <td>0.000000</td>\n",
              "      <td>0.0</td>\n",
              "      <td>0.0</td>\n",
              "      <td>0.000000</td>\n",
              "      <td>0.000000</td>\n",
              "      <td>0.000000</td>\n",
              "      <td>0.000000</td>\n",
              "      <td>0.000000</td>\n",
              "      <td>0.0</td>\n",
              "      <td>0.0</td>\n",
              "      <td>0.0</td>\n",
              "      <td>0.0</td>\n",
              "      <td>0.0</td>\n",
              "      <td>0.0</td>\n",
              "      <td>0.0</td>\n",
              "      <td>0.0</td>\n",
              "      <td>0.0</td>\n",
              "      <td>0.0</td>\n",
              "      <td>0.0</td>\n",
              "      <td>0.000000</td>\n",
              "      <td>0.0</td>\n",
              "      <td>0.0</td>\n",
              "      <td>0.000000</td>\n",
              "      <td>0.0</td>\n",
              "      <td>0.0</td>\n",
              "      <td>0.0</td>\n",
              "      <td>0.000000</td>\n",
              "      <td>0.0</td>\n",
              "      <td>0.0</td>\n",
              "      <td>0.000000</td>\n",
              "      <td>0.0</td>\n",
              "      <td>0.0</td>\n",
              "      <td>0.0</td>\n",
              "      <td>0.0</td>\n",
              "      <td>0.0</td>\n",
              "      <td>0.0</td>\n",
              "      <td>0.0</td>\n",
              "      <td>0.000000</td>\n",
              "      <td>0.0</td>\n",
              "      <td>0.0</td>\n",
              "      <td>0.0</td>\n",
              "      <td>0.0</td>\n",
              "      <td>0.0</td>\n",
              "      <td>0.0</td>\n",
              "      <td>0.0</td>\n",
              "      <td>0.0</td>\n",
              "      <td>0.000000</td>\n",
              "      <td>0.0</td>\n",
              "      <td>0.0</td>\n",
              "      <td>0.0</td>\n",
              "      <td>0.0</td>\n",
              "      <td>0.000000</td>\n",
              "      <td>0.0</td>\n",
              "      <td>0.0</td>\n",
              "      <td>0.0</td>\n",
              "      <td>0.0</td>\n",
              "      <td>0.0</td>\n",
              "      <td>0.0</td>\n",
              "      <td>0.0</td>\n",
              "      <td>0.0</td>\n",
              "      <td>0.0</td>\n",
              "      <td>0.0</td>\n",
              "      <td>0.000000</td>\n",
              "      <td>0.0</td>\n",
              "      <td>0.0</td>\n",
              "      <td>0.0</td>\n",
              "    </tr>\n",
              "    <tr>\n",
              "      <th>25%</th>\n",
              "      <td>0.000000</td>\n",
              "      <td>0.0</td>\n",
              "      <td>0.0</td>\n",
              "      <td>0.000000</td>\n",
              "      <td>0.000000</td>\n",
              "      <td>0.000000</td>\n",
              "      <td>0.000000</td>\n",
              "      <td>0.000000</td>\n",
              "      <td>0.0</td>\n",
              "      <td>0.0</td>\n",
              "      <td>0.0</td>\n",
              "      <td>0.0</td>\n",
              "      <td>0.0</td>\n",
              "      <td>0.0</td>\n",
              "      <td>0.0</td>\n",
              "      <td>0.0</td>\n",
              "      <td>0.0</td>\n",
              "      <td>0.0</td>\n",
              "      <td>0.0</td>\n",
              "      <td>3.123780</td>\n",
              "      <td>0.0</td>\n",
              "      <td>0.0</td>\n",
              "      <td>2.000000</td>\n",
              "      <td>0.0</td>\n",
              "      <td>0.0</td>\n",
              "      <td>0.0</td>\n",
              "      <td>0.000000</td>\n",
              "      <td>0.0</td>\n",
              "      <td>0.0</td>\n",
              "      <td>0.000000</td>\n",
              "      <td>0.0</td>\n",
              "      <td>0.0</td>\n",
              "      <td>0.0</td>\n",
              "      <td>0.0</td>\n",
              "      <td>0.0</td>\n",
              "      <td>0.0</td>\n",
              "      <td>0.0</td>\n",
              "      <td>0.000000</td>\n",
              "      <td>0.0</td>\n",
              "      <td>0.0</td>\n",
              "      <td>0.0</td>\n",
              "      <td>0.0</td>\n",
              "      <td>0.0</td>\n",
              "      <td>0.0</td>\n",
              "      <td>0.0</td>\n",
              "      <td>0.0</td>\n",
              "      <td>0.000000</td>\n",
              "      <td>0.0</td>\n",
              "      <td>0.0</td>\n",
              "      <td>0.0</td>\n",
              "      <td>0.0</td>\n",
              "      <td>3955.000000</td>\n",
              "      <td>0.0</td>\n",
              "      <td>0.0</td>\n",
              "      <td>0.0</td>\n",
              "      <td>0.0</td>\n",
              "      <td>0.0</td>\n",
              "      <td>0.0</td>\n",
              "      <td>0.0</td>\n",
              "      <td>0.0</td>\n",
              "      <td>0.0</td>\n",
              "      <td>0.0</td>\n",
              "      <td>0.000000</td>\n",
              "      <td>0.0</td>\n",
              "      <td>0.0</td>\n",
              "      <td>0.0</td>\n",
              "    </tr>\n",
              "    <tr>\n",
              "      <th>50%</th>\n",
              "      <td>298.000000</td>\n",
              "      <td>0.0</td>\n",
              "      <td>0.0</td>\n",
              "      <td>0.000000</td>\n",
              "      <td>0.000000</td>\n",
              "      <td>0.000000</td>\n",
              "      <td>0.000000</td>\n",
              "      <td>0.000000</td>\n",
              "      <td>0.0</td>\n",
              "      <td>0.0</td>\n",
              "      <td>0.0</td>\n",
              "      <td>0.0</td>\n",
              "      <td>0.0</td>\n",
              "      <td>0.0</td>\n",
              "      <td>0.0</td>\n",
              "      <td>0.0</td>\n",
              "      <td>0.0</td>\n",
              "      <td>0.0</td>\n",
              "      <td>0.0</td>\n",
              "      <td>5.210775</td>\n",
              "      <td>0.0</td>\n",
              "      <td>0.0</td>\n",
              "      <td>10.000000</td>\n",
              "      <td>0.0</td>\n",
              "      <td>0.0</td>\n",
              "      <td>0.0</td>\n",
              "      <td>110.000000</td>\n",
              "      <td>0.0</td>\n",
              "      <td>0.0</td>\n",
              "      <td>0.000000</td>\n",
              "      <td>0.0</td>\n",
              "      <td>0.0</td>\n",
              "      <td>0.0</td>\n",
              "      <td>0.0</td>\n",
              "      <td>0.0</td>\n",
              "      <td>0.0</td>\n",
              "      <td>0.0</td>\n",
              "      <td>0.000000</td>\n",
              "      <td>0.0</td>\n",
              "      <td>0.0</td>\n",
              "      <td>0.0</td>\n",
              "      <td>0.0</td>\n",
              "      <td>0.0</td>\n",
              "      <td>0.0</td>\n",
              "      <td>0.0</td>\n",
              "      <td>0.0</td>\n",
              "      <td>1525.000000</td>\n",
              "      <td>0.0</td>\n",
              "      <td>0.0</td>\n",
              "      <td>0.0</td>\n",
              "      <td>0.0</td>\n",
              "      <td>6659.000000</td>\n",
              "      <td>0.0</td>\n",
              "      <td>0.0</td>\n",
              "      <td>0.0</td>\n",
              "      <td>0.0</td>\n",
              "      <td>0.0</td>\n",
              "      <td>0.0</td>\n",
              "      <td>0.0</td>\n",
              "      <td>0.0</td>\n",
              "      <td>0.0</td>\n",
              "      <td>0.0</td>\n",
              "      <td>0.000000</td>\n",
              "      <td>0.0</td>\n",
              "      <td>0.0</td>\n",
              "      <td>0.0</td>\n",
              "    </tr>\n",
              "    <tr>\n",
              "      <th>75%</th>\n",
              "      <td>441.043397</td>\n",
              "      <td>0.0</td>\n",
              "      <td>0.0</td>\n",
              "      <td>0.000000</td>\n",
              "      <td>0.000000</td>\n",
              "      <td>0.000000</td>\n",
              "      <td>0.000000</td>\n",
              "      <td>0.000000</td>\n",
              "      <td>0.0</td>\n",
              "      <td>0.0</td>\n",
              "      <td>0.0</td>\n",
              "      <td>0.0</td>\n",
              "      <td>0.0</td>\n",
              "      <td>0.0</td>\n",
              "      <td>0.0</td>\n",
              "      <td>0.0</td>\n",
              "      <td>0.0</td>\n",
              "      <td>0.0</td>\n",
              "      <td>0.0</td>\n",
              "      <td>6.945000</td>\n",
              "      <td>0.0</td>\n",
              "      <td>0.0</td>\n",
              "      <td>17.000000</td>\n",
              "      <td>0.0</td>\n",
              "      <td>0.0</td>\n",
              "      <td>0.0</td>\n",
              "      <td>127.500000</td>\n",
              "      <td>0.0</td>\n",
              "      <td>0.0</td>\n",
              "      <td>0.000000</td>\n",
              "      <td>0.0</td>\n",
              "      <td>0.0</td>\n",
              "      <td>0.0</td>\n",
              "      <td>0.0</td>\n",
              "      <td>0.0</td>\n",
              "      <td>0.0</td>\n",
              "      <td>0.0</td>\n",
              "      <td>0.000000</td>\n",
              "      <td>0.0</td>\n",
              "      <td>0.0</td>\n",
              "      <td>0.0</td>\n",
              "      <td>0.0</td>\n",
              "      <td>0.0</td>\n",
              "      <td>0.0</td>\n",
              "      <td>0.0</td>\n",
              "      <td>0.0</td>\n",
              "      <td>1555.782802</td>\n",
              "      <td>0.0</td>\n",
              "      <td>0.0</td>\n",
              "      <td>0.0</td>\n",
              "      <td>0.0</td>\n",
              "      <td>8708.000000</td>\n",
              "      <td>0.0</td>\n",
              "      <td>0.0</td>\n",
              "      <td>0.0</td>\n",
              "      <td>0.0</td>\n",
              "      <td>0.0</td>\n",
              "      <td>0.0</td>\n",
              "      <td>0.0</td>\n",
              "      <td>0.0</td>\n",
              "      <td>0.0</td>\n",
              "      <td>0.0</td>\n",
              "      <td>0.000000</td>\n",
              "      <td>0.0</td>\n",
              "      <td>0.0</td>\n",
              "      <td>0.0</td>\n",
              "    </tr>\n",
              "    <tr>\n",
              "      <th>max</th>\n",
              "      <td>4100.000000</td>\n",
              "      <td>0.0</td>\n",
              "      <td>0.0</td>\n",
              "      <td>86.474822</td>\n",
              "      <td>80.000000</td>\n",
              "      <td>125.000000</td>\n",
              "      <td>0.143000</td>\n",
              "      <td>19.200000</td>\n",
              "      <td>0.0</td>\n",
              "      <td>0.0</td>\n",
              "      <td>0.0</td>\n",
              "      <td>0.0</td>\n",
              "      <td>0.0</td>\n",
              "      <td>0.0</td>\n",
              "      <td>0.0</td>\n",
              "      <td>0.0</td>\n",
              "      <td>0.0</td>\n",
              "      <td>0.0</td>\n",
              "      <td>0.0</td>\n",
              "      <td>22.046162</td>\n",
              "      <td>0.0</td>\n",
              "      <td>0.0</td>\n",
              "      <td>40.413400</td>\n",
              "      <td>0.0</td>\n",
              "      <td>0.0</td>\n",
              "      <td>0.0</td>\n",
              "      <td>183.000000</td>\n",
              "      <td>0.0</td>\n",
              "      <td>0.0</td>\n",
              "      <td>52.450800</td>\n",
              "      <td>0.0</td>\n",
              "      <td>0.0</td>\n",
              "      <td>0.0</td>\n",
              "      <td>0.0</td>\n",
              "      <td>0.0</td>\n",
              "      <td>0.0</td>\n",
              "      <td>0.0</td>\n",
              "      <td>0.998000</td>\n",
              "      <td>0.0</td>\n",
              "      <td>0.0</td>\n",
              "      <td>0.0</td>\n",
              "      <td>0.0</td>\n",
              "      <td>0.0</td>\n",
              "      <td>0.0</td>\n",
              "      <td>0.0</td>\n",
              "      <td>0.0</td>\n",
              "      <td>1860.000000</td>\n",
              "      <td>0.0</td>\n",
              "      <td>0.0</td>\n",
              "      <td>0.0</td>\n",
              "      <td>0.0</td>\n",
              "      <td>25540.233598</td>\n",
              "      <td>0.0</td>\n",
              "      <td>0.0</td>\n",
              "      <td>0.0</td>\n",
              "      <td>0.0</td>\n",
              "      <td>0.0</td>\n",
              "      <td>0.0</td>\n",
              "      <td>0.0</td>\n",
              "      <td>0.0</td>\n",
              "      <td>0.0</td>\n",
              "      <td>0.0</td>\n",
              "      <td>60.150000</td>\n",
              "      <td>0.0</td>\n",
              "      <td>0.0</td>\n",
              "      <td>0.0</td>\n",
              "    </tr>\n",
              "  </tbody>\n",
              "</table>\n",
              "</div>"
            ],
            "text/plain": [
              "       Active Calories (kcal)  Biotin (mcg)  ...  Zinc (mg)  UV Exposure (count)\n",
              "count              767.000000         767.0  ...      767.0                767.0\n",
              "mean               346.623511           0.0  ...        0.0                  0.0\n",
              "std                444.076546           0.0  ...        0.0                  0.0\n",
              "min                  0.000000           0.0  ...        0.0                  0.0\n",
              "25%                  0.000000           0.0  ...        0.0                  0.0\n",
              "50%                298.000000           0.0  ...        0.0                  0.0\n",
              "75%                441.043397           0.0  ...        0.0                  0.0\n",
              "max               4100.000000           0.0  ...        0.0                  0.0\n",
              "\n",
              "[8 rows x 66 columns]"
            ]
          },
          "metadata": {
            "tags": []
          },
          "execution_count": 8
        }
      ]
    },
    {
      "cell_type": "code",
      "metadata": {
        "colab": {
          "base_uri": "https://localhost:8080/"
        },
        "id": "Pd6f-ftuVM-i",
        "outputId": "f9c8809e-6747-43b0-9258-5be607fa7f30"
      },
      "source": [
        "data.info()"
      ],
      "execution_count": 11,
      "outputs": [
        {
          "output_type": "stream",
          "text": [
            "<class 'pandas.core.frame.DataFrame'>\n",
            "RangeIndex: 767 entries, 0 to 766\n",
            "Data columns (total 68 columns):\n",
            " #   Column                             Non-Null Count  Dtype  \n",
            "---  ------                             --------------  -----  \n",
            " 0   Start                              767 non-null    object \n",
            " 1   Finish                             767 non-null    object \n",
            " 2   Active Calories (kcal)             767 non-null    float64\n",
            " 3   Biotin (mcg)                       767 non-null    float64\n",
            " 4   Blood Alcohol Content (%)          767 non-null    float64\n",
            " 5   Blood Glucose (mg/dL)              767 non-null    float64\n",
            " 6   Blood Pressure (Diastolic) (mmHg)  767 non-null    float64\n",
            " 7   Blood Pressure (Systolic) (mmHg)   767 non-null    float64\n",
            " 8   Body Fat Percentage (%)            767 non-null    float64\n",
            " 9   Body Mass Index (count)            767 non-null    float64\n",
            " 10  Body Temperature (degC)            767 non-null    float64\n",
            " 11  Basal Body Temperature (degC)      767 non-null    float64\n",
            " 12  Caffeine (mg)                      767 non-null    float64\n",
            " 13  Calcium (mg)                       767 non-null    float64\n",
            " 14  Carbohydrates (mg)                 767 non-null    float64\n",
            " 15  Chloride (mg)                      767 non-null    float64\n",
            " 16  Cholesterol (mg)                   767 non-null    float64\n",
            " 17  Chromium (mcg)                     767 non-null    float64\n",
            " 18  Copper (mcg)                       767 non-null    float64\n",
            " 19  Cycling Distance (mi)              767 non-null    float64\n",
            " 20  Dietary Calories (cal)             767 non-null    float64\n",
            " 21  Distance (km)                      767 non-null    float64\n",
            " 22  Electrodermal Activity (mcS)       767 non-null    float64\n",
            " 23  Fiber (g)                          767 non-null    float64\n",
            " 24  Flights Climbed (count)            767 non-null    float64\n",
            " 25  Folate (mcg)                       767 non-null    float64\n",
            " 26  Forced Expiratory Volume (L)       767 non-null    float64\n",
            " 27  Forced Vital Capacity (L)          767 non-null    float64\n",
            " 28  Heart Rate (count/min)             767 non-null    float64\n",
            " 29  Inhaler Usage (count)              767 non-null    float64\n",
            " 30  Iodine (mcg)                       767 non-null    float64\n",
            " 31  Lean Body Mass (kg)                767 non-null    float64\n",
            " 32  Magnesium (mg)                     767 non-null    float64\n",
            " 33  Manganese (mg)                     767 non-null    float64\n",
            " 34  Molybdenum (mcg)                   767 non-null    float64\n",
            " 35  Monosaturated Fat (g)              767 non-null    float64\n",
            " 36  Niacin (mg)                        767 non-null    float64\n",
            " 37  NikeFuel (count)                   767 non-null    float64\n",
            " 38  Number of Times Fallen (count)     767 non-null    float64\n",
            " 39  Oxygen Saturation (%)              767 non-null    float64\n",
            " 40  Pantothenic Acid (mg)              767 non-null    float64\n",
            " 41  Peak Expiratory Flow Rate (L/min)  767 non-null    float64\n",
            " 42  Peripheral Perfusion Index (%)     767 non-null    float64\n",
            " 43  Phosphorus (mg)                    767 non-null    float64\n",
            " 44  Polyunsaturated Fat (g)            767 non-null    float64\n",
            " 45  Potassium (mg)                     767 non-null    float64\n",
            " 46  Protein (g)                        767 non-null    float64\n",
            " 47  Respiratory Rate (count/min)       767 non-null    float64\n",
            " 48  Resting Calories (kcal)            767 non-null    float64\n",
            " 49  Riboflavin (mg)                    767 non-null    float64\n",
            " 50  Saturated Fat (g)                  767 non-null    float64\n",
            " 51  Selenium (mcg)                     767 non-null    float64\n",
            " 52  Sodium (mg)                        767 non-null    float64\n",
            " 53  Steps (count)                      767 non-null    float64\n",
            " 54  Sugar (g)                          767 non-null    float64\n",
            " 55  Thiamin (mg)                       767 non-null    float64\n",
            " 56  Total Fat (g)                      767 non-null    float64\n",
            " 57  Vitamin A (mcg)                    767 non-null    float64\n",
            " 58  Vitamin B12 (mcg)                  767 non-null    float64\n",
            " 59  Vitamin B6 (mg)                    767 non-null    float64\n",
            " 60  Vitamin C (mg)                     767 non-null    float64\n",
            " 61  Vitamin D (mcg)                    767 non-null    float64\n",
            " 62  Vitamin E (mg)                     767 non-null    float64\n",
            " 63  Vitamin K (mcg)                    767 non-null    float64\n",
            " 64  Weight (kg)                        767 non-null    float64\n",
            " 65  Dietary Water (L)                  767 non-null    float64\n",
            " 66  Zinc (mg)                          767 non-null    float64\n",
            " 67  UV Exposure (count)                767 non-null    float64\n",
            "dtypes: float64(66), object(2)\n",
            "memory usage: 407.6+ KB\n"
          ],
          "name": "stdout"
        }
      ]
    },
    {
      "cell_type": "markdown",
      "metadata": {
        "id": "yQ4-pKGTo7t8"
      },
      "source": [
        "## IMPORTING DATA FROM LOCAL DRIVE"
      ]
    },
    {
      "cell_type": "code",
      "metadata": {
        "colab": {
          "resources": {
            "http://localhost:8080/nbextensions/google.colab/files.js": {
              "data": "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",
              "ok": true,
              "headers": [
                [
                  "content-type",
                  "application/javascript"
                ]
              ],
              "status": 200,
              "status_text": ""
            }
          },
          "base_uri": "https://localhost:8080/",
          "height": 72
        },
        "id": "pacoExsbpDti",
        "outputId": "79c60e46-5b53-4baf-edf6-1b77aee762fa"
      },
      "source": [
        "import pandas as pd\n",
        "from google.colab import files\n",
        "uploaded = files.upload()\n"
      ],
      "execution_count": 12,
      "outputs": [
        {
          "output_type": "display_data",
          "data": {
            "text/html": [
              "\n",
              "     <input type=\"file\" id=\"files-c92a43b6-bc8b-4d5e-989e-e2e9371d7d49\" name=\"files[]\" multiple disabled\n",
              "        style=\"border:none\" />\n",
              "     <output id=\"result-c92a43b6-bc8b-4d5e-989e-e2e9371d7d49\">\n",
              "      Upload widget is only available when the cell has been executed in the\n",
              "      current browser session. Please rerun this cell to enable.\n",
              "      </output>\n",
              "      <script src=\"/nbextensions/google.colab/files.js\"></script> "
            ],
            "text/plain": [
              "<IPython.core.display.HTML object>"
            ]
          },
          "metadata": {
            "tags": []
          }
        },
        {
          "output_type": "stream",
          "text": [
            "Saving Stud_data (2).csv to Stud_data (2) (1).csv\n"
          ],
          "name": "stdout"
        }
      ]
    },
    {
      "cell_type": "code",
      "metadata": {
        "id": "3dO5UklHpq1P"
      },
      "source": [
        "import pandas as pd\n",
        "import io\n",
        "dt=pd.read_csv(io.BytesIO(uploaded['Stud_data.csv'])) #Ignore this line"
      ],
      "execution_count": null,
      "outputs": []
    },
    {
      "cell_type": "code",
      "metadata": {
        "id": "5dK1rYfxJSVb"
      },
      "source": [
        "import pandas as pd\n",
        "dt=pd.read_csv(\"Stud_data.csv\")"
      ],
      "execution_count": 18,
      "outputs": []
    },
    {
      "cell_type": "code",
      "metadata": {
        "colab": {
          "base_uri": "https://localhost:8080/",
          "height": 204
        },
        "id": "8a0ol_nVqO32",
        "outputId": "0256bab4-99df-4cb0-de58-c608e4b35ac4"
      },
      "source": [
        "dt.head()"
      ],
      "execution_count": 20,
      "outputs": [
        {
          "output_type": "execute_result",
          "data": {
            "text/html": [
              "<div>\n",
              "<style scoped>\n",
              "    .dataframe tbody tr th:only-of-type {\n",
              "        vertical-align: middle;\n",
              "    }\n",
              "\n",
              "    .dataframe tbody tr th {\n",
              "        vertical-align: top;\n",
              "    }\n",
              "\n",
              "    .dataframe thead th {\n",
              "        text-align: right;\n",
              "    }\n",
              "</style>\n",
              "<table border=\"1\" class=\"dataframe\">\n",
              "  <thead>\n",
              "    <tr style=\"text-align: right;\">\n",
              "      <th></th>\n",
              "      <th>Stud_id</th>\n",
              "      <th>Gender</th>\n",
              "      <th>Dept</th>\n",
              "      <th>Attendance</th>\n",
              "      <th>SemMarks</th>\n",
              "      <th>Name</th>\n",
              "      <th>Unnamed: 6</th>\n",
              "    </tr>\n",
              "  </thead>\n",
              "  <tbody>\n",
              "    <tr>\n",
              "      <th>0</th>\n",
              "      <td>M197</td>\n",
              "      <td>Female</td>\n",
              "      <td>Science</td>\n",
              "      <td>63.0</td>\n",
              "      <td>475.0</td>\n",
              "      <td>Ritu</td>\n",
              "      <td>NaN</td>\n",
              "    </tr>\n",
              "    <tr>\n",
              "      <th>1</th>\n",
              "      <td>M181</td>\n",
              "      <td>Male</td>\n",
              "      <td>Commerce</td>\n",
              "      <td>86.0</td>\n",
              "      <td>303.0</td>\n",
              "      <td>Victor</td>\n",
              "      <td>NaN</td>\n",
              "    </tr>\n",
              "    <tr>\n",
              "      <th>2</th>\n",
              "      <td>S137</td>\n",
              "      <td>Female</td>\n",
              "      <td>Commerce</td>\n",
              "      <td>79.0</td>\n",
              "      <td>587.0</td>\n",
              "      <td>Daven</td>\n",
              "      <td>NaN</td>\n",
              "    </tr>\n",
              "    <tr>\n",
              "      <th>3</th>\n",
              "      <td>M193</td>\n",
              "      <td>Male</td>\n",
              "      <td>Commerce</td>\n",
              "      <td>47.0</td>\n",
              "      <td>403.0</td>\n",
              "      <td>Fernado</td>\n",
              "      <td>NaN</td>\n",
              "    </tr>\n",
              "    <tr>\n",
              "      <th>4</th>\n",
              "      <td>C166</td>\n",
              "      <td>Female</td>\n",
              "      <td>Science</td>\n",
              "      <td>59.0</td>\n",
              "      <td>461.0</td>\n",
              "      <td>Rose</td>\n",
              "      <td>NaN</td>\n",
              "    </tr>\n",
              "  </tbody>\n",
              "</table>\n",
              "</div>"
            ],
            "text/plain": [
              "  Stud_id  Gender      Dept  Attendance  SemMarks     Name  Unnamed: 6\n",
              "0    M197  Female   Science        63.0     475.0     Ritu         NaN\n",
              "1    M181    Male  Commerce        86.0     303.0   Victor         NaN\n",
              "2    S137  Female  Commerce        79.0     587.0    Daven         NaN\n",
              "3    M193    Male  Commerce        47.0     403.0  Fernado         NaN\n",
              "4    C166  Female   Science        59.0     461.0     Rose         NaN"
            ]
          },
          "metadata": {
            "tags": []
          },
          "execution_count": 20
        }
      ]
    },
    {
      "cell_type": "code",
      "metadata": {
        "colab": {
          "base_uri": "https://localhost:8080/",
          "height": 204
        },
        "id": "Z-8yejZnWXrS",
        "outputId": "e63d0d41-aaf2-4b76-af9d-0d57dd03774c"
      },
      "source": [
        "dt[5:10]"
      ],
      "execution_count": 21,
      "outputs": [
        {
          "output_type": "execute_result",
          "data": {
            "text/html": [
              "<div>\n",
              "<style scoped>\n",
              "    .dataframe tbody tr th:only-of-type {\n",
              "        vertical-align: middle;\n",
              "    }\n",
              "\n",
              "    .dataframe tbody tr th {\n",
              "        vertical-align: top;\n",
              "    }\n",
              "\n",
              "    .dataframe thead th {\n",
              "        text-align: right;\n",
              "    }\n",
              "</style>\n",
              "<table border=\"1\" class=\"dataframe\">\n",
              "  <thead>\n",
              "    <tr style=\"text-align: right;\">\n",
              "      <th></th>\n",
              "      <th>Stud_id</th>\n",
              "      <th>Gender</th>\n",
              "      <th>Dept</th>\n",
              "      <th>Attendance</th>\n",
              "      <th>SemMarks</th>\n",
              "      <th>Name</th>\n",
              "      <th>Unnamed: 6</th>\n",
              "    </tr>\n",
              "  </thead>\n",
              "  <tbody>\n",
              "    <tr>\n",
              "      <th>5</th>\n",
              "      <td>S138</td>\n",
              "      <td>Male</td>\n",
              "      <td>Commerce</td>\n",
              "      <td>88.0</td>\n",
              "      <td>452.0</td>\n",
              "      <td>Vijay</td>\n",
              "      <td>NaN</td>\n",
              "    </tr>\n",
              "    <tr>\n",
              "      <th>6</th>\n",
              "      <td>A102</td>\n",
              "      <td>Female</td>\n",
              "      <td>Arts</td>\n",
              "      <td>97.0</td>\n",
              "      <td>589.0</td>\n",
              "      <td>Honey</td>\n",
              "      <td>NaN</td>\n",
              "    </tr>\n",
              "    <tr>\n",
              "      <th>7</th>\n",
              "      <td>A124</td>\n",
              "      <td>Male</td>\n",
              "      <td>Commerce</td>\n",
              "      <td>97.0</td>\n",
              "      <td>355.0</td>\n",
              "      <td>Randy</td>\n",
              "      <td>NaN</td>\n",
              "    </tr>\n",
              "    <tr>\n",
              "      <th>8</th>\n",
              "      <td>C173</td>\n",
              "      <td>Female</td>\n",
              "      <td>Arts</td>\n",
              "      <td>97.0</td>\n",
              "      <td>473.0</td>\n",
              "      <td>Jannet</td>\n",
              "      <td>NaN</td>\n",
              "    </tr>\n",
              "    <tr>\n",
              "      <th>9</th>\n",
              "      <td>C155</td>\n",
              "      <td>Male</td>\n",
              "      <td>Science</td>\n",
              "      <td>NaN</td>\n",
              "      <td>411.0</td>\n",
              "      <td>Pillai</td>\n",
              "      <td>NaN</td>\n",
              "    </tr>\n",
              "  </tbody>\n",
              "</table>\n",
              "</div>"
            ],
            "text/plain": [
              "  Stud_id  Gender      Dept  Attendance  SemMarks    Name  Unnamed: 6\n",
              "5    S138    Male  Commerce        88.0     452.0   Vijay         NaN\n",
              "6    A102  Female      Arts        97.0     589.0   Honey         NaN\n",
              "7    A124    Male  Commerce        97.0     355.0   Randy         NaN\n",
              "8    C173  Female      Arts        97.0     473.0  Jannet         NaN\n",
              "9    C155    Male   Science         NaN     411.0  Pillai         NaN"
            ]
          },
          "metadata": {
            "tags": []
          },
          "execution_count": 21
        }
      ]
    },
    {
      "cell_type": "code",
      "metadata": {
        "colab": {
          "base_uri": "https://localhost:8080/"
        },
        "id": "v9illv61WXoY",
        "outputId": "a1bb1b4f-ec6d-4095-db1c-954f7ba3cc9d"
      },
      "source": [
        "dt.Dept.unique()"
      ],
      "execution_count": 22,
      "outputs": [
        {
          "output_type": "execute_result",
          "data": {
            "text/plain": [
              "array(['Science', 'Commerce', 'Arts', 'Comms', 'Art', nan], dtype=object)"
            ]
          },
          "metadata": {
            "tags": []
          },
          "execution_count": 22
        }
      ]
    },
    {
      "cell_type": "markdown",
      "metadata": {
        "id": "ec4PsLKvW2kD"
      },
      "source": [
        "##Excercise 1\n",
        "\n",
        "(a). Import Stud_data downloaded in your computer"
      ]
    },
    {
      "cell_type": "code",
      "metadata": {
        "id": "htx-K18rW8zL"
      },
      "source": [
        ""
      ],
      "execution_count": 15,
      "outputs": []
    },
    {
      "cell_type": "code",
      "metadata": {
        "id": "GOrw5cPPXKvE"
      },
      "source": [
        ""
      ],
      "execution_count": null,
      "outputs": []
    },
    {
      "cell_type": "markdown",
      "metadata": {
        "id": "03W4ZyrVXSkz"
      },
      "source": [
        "(b). read the first five lines of the data:"
      ]
    },
    {
      "cell_type": "code",
      "metadata": {
        "id": "OJHOoaBOXbL5"
      },
      "source": [
        ""
      ],
      "execution_count": null,
      "outputs": []
    },
    {
      "cell_type": "markdown",
      "metadata": {
        "id": "epssswVFXdmy"
      },
      "source": [
        "(c).find the last five lines of the data"
      ]
    },
    {
      "cell_type": "code",
      "metadata": {
        "id": "36TGtrIjXm0g"
      },
      "source": [
        ""
      ],
      "execution_count": null,
      "outputs": []
    },
    {
      "cell_type": "markdown",
      "metadata": {
        "id": "Y3r5Mg-sXno-"
      },
      "source": [
        "read the headers in the data"
      ]
    },
    {
      "cell_type": "code",
      "metadata": {
        "id": "JAK3aMy5XuUV"
      },
      "source": [
        ""
      ],
      "execution_count": null,
      "outputs": []
    },
    {
      "cell_type": "markdown",
      "metadata": {
        "id": "U7yHkfL_X2VO"
      },
      "source": [
        "find the unique values in the data"
      ]
    },
    {
      "cell_type": "markdown",
      "metadata": {
        "id": "5KnNuJEDX7zf"
      },
      "source": [
        "read row 15 to 20"
      ]
    },
    {
      "cell_type": "code",
      "metadata": {
        "id": "GxCZ42X4YCkt"
      },
      "source": [
        ""
      ],
      "execution_count": null,
      "outputs": []
    },
    {
      "cell_type": "markdown",
      "metadata": {
        "id": "APlD67OpoOMn"
      },
      "source": [
        "## MEAN"
      ]
    },
    {
      "cell_type": "code",
      "metadata": {
        "colab": {
          "base_uri": "https://localhost:8080/"
        },
        "id": "E5JIJ_2-oOMo",
        "outputId": "262ebd09-7a84-49d2-f6ce-3e2612cd887a"
      },
      "source": [
        "data.mean()"
      ],
      "execution_count": 23,
      "outputs": [
        {
          "output_type": "execute_result",
          "data": {
            "text/plain": [
              "Active Calories (kcal)               346.623511\n",
              "Biotin (mcg)                           0.000000\n",
              "Blood Alcohol Content (%)              0.000000\n",
              "Blood Glucose (mg/dL)                  0.216093\n",
              "Blood Pressure (Diastolic) (mmHg)      0.912647\n",
              "                                        ...    \n",
              "Vitamin K (mcg)                        0.000000\n",
              "Weight (kg)                            8.273077\n",
              "Dietary Water (L)                      0.000000\n",
              "Zinc (mg)                              0.000000\n",
              "UV Exposure (count)                    0.000000\n",
              "Length: 66, dtype: float64"
            ]
          },
          "metadata": {
            "tags": []
          },
          "execution_count": 23
        }
      ]
    },
    {
      "cell_type": "markdown",
      "metadata": {
        "id": "ATstfIpjoOMs"
      },
      "source": [
        "To see specific rows(eg: 10 to 15)"
      ]
    },
    {
      "cell_type": "markdown",
      "metadata": {
        "id": "Keant0QRoOMu"
      },
      "source": [
        "## MEDIAN"
      ]
    },
    {
      "cell_type": "code",
      "metadata": {
        "colab": {
          "base_uri": "https://localhost:8080/"
        },
        "id": "DgWRzsquoOMw",
        "outputId": "d413f63a-808b-435b-a9bf-1ddc2823b946"
      },
      "source": [
        "data.median()"
      ],
      "execution_count": 24,
      "outputs": [
        {
          "output_type": "execute_result",
          "data": {
            "text/plain": [
              "Active Calories (kcal)               298.0\n",
              "Biotin (mcg)                           0.0\n",
              "Blood Alcohol Content (%)              0.0\n",
              "Blood Glucose (mg/dL)                  0.0\n",
              "Blood Pressure (Diastolic) (mmHg)      0.0\n",
              "                                     ...  \n",
              "Vitamin K (mcg)                        0.0\n",
              "Weight (kg)                            0.0\n",
              "Dietary Water (L)                      0.0\n",
              "Zinc (mg)                              0.0\n",
              "UV Exposure (count)                    0.0\n",
              "Length: 66, dtype: float64"
            ]
          },
          "metadata": {
            "tags": []
          },
          "execution_count": 24
        }
      ]
    },
    {
      "cell_type": "code",
      "metadata": {
        "id": "att9KkV-Y8EA"
      },
      "source": [
        "\n"
      ],
      "execution_count": null,
      "outputs": []
    },
    {
      "cell_type": "markdown",
      "metadata": {
        "id": "5b4DXfjCYY2e"
      },
      "source": [
        "## Excercise 2"
      ]
    },
    {
      "cell_type": "markdown",
      "metadata": {
        "id": "vxs1bnZ2YeeG"
      },
      "source": [
        "find the man of Stud_data\n"
      ]
    },
    {
      "cell_type": "markdown",
      "metadata": {
        "id": "LZgUt2iPoOM-"
      },
      "source": [
        "To see the properties of entries a dataset:"
      ]
    },
    {
      "cell_type": "code",
      "metadata": {
        "id": "LLdHGX3HYkhz"
      },
      "source": [
        ""
      ],
      "execution_count": null,
      "outputs": []
    },
    {
      "cell_type": "markdown",
      "metadata": {
        "id": "g8EDtWhoYr5N"
      },
      "source": [
        "find median of stud_data"
      ]
    },
    {
      "cell_type": "code",
      "metadata": {
        "id": "Cr5F5y0zYvlr"
      },
      "source": [
        ""
      ],
      "execution_count": null,
      "outputs": []
    },
    {
      "cell_type": "markdown",
      "metadata": {
        "id": "wpbjRE_4Yl5x"
      },
      "source": [
        ""
      ]
    },
    {
      "cell_type": "code",
      "metadata": {
        "id": "Wz6BWE82YzIJ"
      },
      "source": [
        ""
      ],
      "execution_count": null,
      "outputs": []
    },
    {
      "cell_type": "code",
      "metadata": {
        "id": "TncLRBW2ZYVR"
      },
      "source": [
        ""
      ],
      "execution_count": null,
      "outputs": []
    },
    {
      "cell_type": "code",
      "metadata": {
        "id": "59h6rjPdZZLY"
      },
      "source": [
        ""
      ],
      "execution_count": null,
      "outputs": []
    },
    {
      "cell_type": "markdown",
      "metadata": {
        "id": "RRngM_ktoONZ"
      },
      "source": [
        "## Excercise 2 Solved\n",
        "## Mean"
      ]
    },
    {
      "cell_type": "code",
      "metadata": {
        "id": "TbSTobWGoONa"
      },
      "source": [
        "dt.mean()"
      ],
      "execution_count": null,
      "outputs": []
    },
    {
      "cell_type": "code",
      "metadata": {
        "id": "fjx37__BoONd"
      },
      "source": [
        "dt.median()"
      ],
      "execution_count": null,
      "outputs": []
    },
    {
      "cell_type": "code",
      "metadata": {
        "id": "cRu7jA2ioONf"
      },
      "source": [
        ""
      ],
      "execution_count": null,
      "outputs": []
    },
    {
      "cell_type": "markdown",
      "metadata": {
        "id": "rl4HUSkyZUCM"
      },
      "source": [
        "## To find mode"
      ]
    },
    {
      "cell_type": "code",
      "metadata": {
        "id": "0dH5XCO6Zhoq"
      },
      "source": [
        "from scipy.stats import mode"
      ],
      "execution_count": 25,
      "outputs": []
    },
    {
      "cell_type": "code",
      "metadata": {
        "colab": {
          "base_uri": "https://localhost:8080/"
        },
        "id": "ihX38PWGZiIz",
        "outputId": "5f476c14-61d8-47f7-980a-54987b086866"
      },
      "source": [
        "mode(dt.Attendance)"
      ],
      "execution_count": 26,
      "outputs": [
        {
          "output_type": "execute_result",
          "data": {
            "text/plain": [
              "ModeResult(mode=array([97.]), count=array([6]))"
            ]
          },
          "metadata": {
            "tags": []
          },
          "execution_count": 26
        }
      ]
    },
    {
      "cell_type": "markdown",
      "metadata": {
        "id": "TPerUirpX-RA"
      },
      "source": [
        "## Data Preprocessing"
      ]
    },
    {
      "cell_type": "code",
      "metadata": {
        "colab": {
          "base_uri": "https://localhost:8080/"
        },
        "id": "n0v-OOiVhxjW",
        "outputId": "0625ba35-4e5d-4a14-e43b-53e37f97a88d"
      },
      "source": [
        "dt.columns"
      ],
      "execution_count": 27,
      "outputs": [
        {
          "output_type": "execute_result",
          "data": {
            "text/plain": [
              "Index(['Stud_id', 'Gender', 'Dept', 'Attendance', 'SemMarks', 'Name',\n",
              "       'Unnamed: 6'],\n",
              "      dtype='object')"
            ]
          },
          "metadata": {
            "tags": []
          },
          "execution_count": 27
        }
      ]
    },
    {
      "cell_type": "code",
      "metadata": {
        "colab": {
          "base_uri": "https://localhost:8080/"
        },
        "id": "7Fn1rdNQYQP-",
        "outputId": "300af5e3-346a-4ecd-84ae-42c4c818a37c"
      },
      "source": [
        "dt.Attendance.head()"
      ],
      "execution_count": 28,
      "outputs": [
        {
          "output_type": "execute_result",
          "data": {
            "text/plain": [
              "0    63.0\n",
              "1    86.0\n",
              "2    79.0\n",
              "3    47.0\n",
              "4    59.0\n",
              "Name: Attendance, dtype: float64"
            ]
          },
          "metadata": {
            "tags": []
          },
          "execution_count": 28
        }
      ]
    },
    {
      "cell_type": "code",
      "metadata": {
        "colab": {
          "base_uri": "https://localhost:8080/"
        },
        "id": "aQI7tdvIYVH3",
        "outputId": "437b740f-6273-4381-e0b3-8ba62cbd957b"
      },
      "source": [
        "dt['Attendance'].mean()"
      ],
      "execution_count": 35,
      "outputs": [
        {
          "output_type": "execute_result",
          "data": {
            "text/plain": [
              "68.82857142857142"
            ]
          },
          "metadata": {
            "tags": []
          },
          "execution_count": 35
        }
      ]
    },
    {
      "cell_type": "markdown",
      "metadata": {
        "id": "wNrnVQrfasY-"
      },
      "source": [
        "Sorting variable"
      ]
    },
    {
      "cell_type": "code",
      "metadata": {
        "colab": {
          "base_uri": "https://localhost:8080/"
        },
        "id": "9Z7mT6OlacHW",
        "outputId": "356e9898-9c8f-489b-c9b8-2d42d4a6786a"
      },
      "source": [
        "dt['Attendance'].sort_values(ascending=True)"
      ],
      "execution_count": 36,
      "outputs": [
        {
          "output_type": "execute_result",
          "data": {
            "text/plain": [
              "24       0.0\n",
              "14       0.0\n",
              "93       0.0\n",
              "16      40.0\n",
              "12      40.0\n",
              "       ...  \n",
              "83      99.0\n",
              "59     110.0\n",
              "60     150.0\n",
              "9        NaN\n",
              "106      NaN\n",
              "Name: Attendance, Length: 107, dtype: float64"
            ]
          },
          "metadata": {
            "tags": []
          },
          "execution_count": 36
        }
      ]
    },
    {
      "cell_type": "markdown",
      "metadata": {
        "id": "BZl9Yt7ZbVVv"
      },
      "source": [
        "Sort the entire data on a specific variable"
      ]
    },
    {
      "cell_type": "code",
      "metadata": {
        "colab": {
          "base_uri": "https://localhost:8080/",
          "height": 419
        },
        "id": "EjwCcD7kbYzm",
        "outputId": "19d65710-19b5-450f-9400-e47e38550665"
      },
      "source": [
        "dt.sort_values(by='Attendance', ascending=True)"
      ],
      "execution_count": 38,
      "outputs": [
        {
          "output_type": "execute_result",
          "data": {
            "text/html": [
              "<div>\n",
              "<style scoped>\n",
              "    .dataframe tbody tr th:only-of-type {\n",
              "        vertical-align: middle;\n",
              "    }\n",
              "\n",
              "    .dataframe tbody tr th {\n",
              "        vertical-align: top;\n",
              "    }\n",
              "\n",
              "    .dataframe thead th {\n",
              "        text-align: right;\n",
              "    }\n",
              "</style>\n",
              "<table border=\"1\" class=\"dataframe\">\n",
              "  <thead>\n",
              "    <tr style=\"text-align: right;\">\n",
              "      <th></th>\n",
              "      <th>Stud_id</th>\n",
              "      <th>Gender</th>\n",
              "      <th>Dept</th>\n",
              "      <th>Attendance</th>\n",
              "      <th>SemMarks</th>\n",
              "      <th>Name</th>\n",
              "      <th>Unnamed: 6</th>\n",
              "    </tr>\n",
              "  </thead>\n",
              "  <tbody>\n",
              "    <tr>\n",
              "      <th>24</th>\n",
              "      <td>C153</td>\n",
              "      <td>Female</td>\n",
              "      <td>Commerce</td>\n",
              "      <td>0.0</td>\n",
              "      <td>399.0</td>\n",
              "      <td>Victor</td>\n",
              "      <td>NaN</td>\n",
              "    </tr>\n",
              "    <tr>\n",
              "      <th>14</th>\n",
              "      <td>M188</td>\n",
              "      <td>Male</td>\n",
              "      <td>Commerce</td>\n",
              "      <td>0.0</td>\n",
              "      <td>206.0</td>\n",
              "      <td>Roshan</td>\n",
              "      <td>NaN</td>\n",
              "    </tr>\n",
              "    <tr>\n",
              "      <th>93</th>\n",
              "      <td>C165</td>\n",
              "      <td>Male</td>\n",
              "      <td>Science</td>\n",
              "      <td>0.0</td>\n",
              "      <td>387.0</td>\n",
              "      <td>NaN</td>\n",
              "      <td>NaN</td>\n",
              "    </tr>\n",
              "    <tr>\n",
              "      <th>16</th>\n",
              "      <td>M185</td>\n",
              "      <td>Female</td>\n",
              "      <td>Commerce</td>\n",
              "      <td>40.0</td>\n",
              "      <td>201.0</td>\n",
              "      <td>NaN</td>\n",
              "      <td>NaN</td>\n",
              "    </tr>\n",
              "    <tr>\n",
              "      <th>12</th>\n",
              "      <td>C164</td>\n",
              "      <td>Male</td>\n",
              "      <td>Science</td>\n",
              "      <td>40.0</td>\n",
              "      <td>258.0</td>\n",
              "      <td>Atul</td>\n",
              "      <td>NaN</td>\n",
              "    </tr>\n",
              "    <tr>\n",
              "      <th>...</th>\n",
              "      <td>...</td>\n",
              "      <td>...</td>\n",
              "      <td>...</td>\n",
              "      <td>...</td>\n",
              "      <td>...</td>\n",
              "      <td>...</td>\n",
              "      <td>...</td>\n",
              "    </tr>\n",
              "    <tr>\n",
              "      <th>83</th>\n",
              "      <td>M189</td>\n",
              "      <td>Female</td>\n",
              "      <td>Commerce</td>\n",
              "      <td>99.0</td>\n",
              "      <td>298.0</td>\n",
              "      <td>NaN</td>\n",
              "      <td>NaN</td>\n",
              "    </tr>\n",
              "    <tr>\n",
              "      <th>59</th>\n",
              "      <td>M196</td>\n",
              "      <td>Female</td>\n",
              "      <td>Science</td>\n",
              "      <td>110.0</td>\n",
              "      <td>654.0</td>\n",
              "      <td>NaN</td>\n",
              "      <td>NaN</td>\n",
              "    </tr>\n",
              "    <tr>\n",
              "      <th>60</th>\n",
              "      <td>M199</td>\n",
              "      <td>Male</td>\n",
              "      <td>Science</td>\n",
              "      <td>150.0</td>\n",
              "      <td>277.0</td>\n",
              "      <td>Mathew</td>\n",
              "      <td>NaN</td>\n",
              "    </tr>\n",
              "    <tr>\n",
              "      <th>9</th>\n",
              "      <td>C155</td>\n",
              "      <td>Male</td>\n",
              "      <td>Science</td>\n",
              "      <td>NaN</td>\n",
              "      <td>411.0</td>\n",
              "      <td>Pillai</td>\n",
              "      <td>NaN</td>\n",
              "    </tr>\n",
              "    <tr>\n",
              "      <th>106</th>\n",
              "      <td>A128</td>\n",
              "      <td>Female</td>\n",
              "      <td>Commerce</td>\n",
              "      <td>NaN</td>\n",
              "      <td>NaN</td>\n",
              "      <td>NaN</td>\n",
              "      <td>NaN</td>\n",
              "    </tr>\n",
              "  </tbody>\n",
              "</table>\n",
              "<p>107 rows × 7 columns</p>\n",
              "</div>"
            ],
            "text/plain": [
              "    Stud_id  Gender      Dept  Attendance  SemMarks    Name  Unnamed: 6\n",
              "24     C153  Female  Commerce         0.0     399.0  Victor         NaN\n",
              "14     M188    Male  Commerce         0.0     206.0  Roshan         NaN\n",
              "93     C165    Male   Science         0.0     387.0     NaN         NaN\n",
              "16     M185  Female  Commerce        40.0     201.0     NaN         NaN\n",
              "12     C164    Male   Science        40.0     258.0    Atul         NaN\n",
              "..      ...     ...       ...         ...       ...     ...         ...\n",
              "83     M189  Female  Commerce        99.0     298.0     NaN         NaN\n",
              "59     M196  Female   Science       110.0     654.0     NaN         NaN\n",
              "60     M199    Male   Science       150.0     277.0  Mathew         NaN\n",
              "9      C155    Male   Science         NaN     411.0  Pillai         NaN\n",
              "106    A128  Female  Commerce         NaN       NaN     NaN         NaN\n",
              "\n",
              "[107 rows x 7 columns]"
            ]
          },
          "metadata": {
            "tags": []
          },
          "execution_count": 38
        }
      ]
    },
    {
      "cell_type": "markdown",
      "metadata": {
        "id": "4SBlFytkcOoa"
      },
      "source": [
        "Transform Variable"
      ]
    },
    {
      "cell_type": "code",
      "metadata": {
        "id": "O127qnpcb0k0"
      },
      "source": [
        "newattendance=dt['Attendance']*(10/100)"
      ],
      "execution_count": 41,
      "outputs": []
    },
    {
      "cell_type": "markdown",
      "metadata": {
        "id": "glzx3OgFxAKw"
      },
      "source": [
        "Delete Duplicates"
      ]
    },
    {
      "cell_type": "code",
      "metadata": {
        "colab": {
          "base_uri": "https://localhost:8080/",
          "height": 1000
        },
        "id": "yh0fy-0hxFEr",
        "outputId": "bbead0c8-0fa4-47c8-f22a-ec895e0cc15a"
      },
      "source": [
        "dt.drop_duplicates(['Name'])"
      ],
      "execution_count": 43,
      "outputs": [
        {
          "output_type": "execute_result",
          "data": {
            "text/html": [
              "<div>\n",
              "<style scoped>\n",
              "    .dataframe tbody tr th:only-of-type {\n",
              "        vertical-align: middle;\n",
              "    }\n",
              "\n",
              "    .dataframe tbody tr th {\n",
              "        vertical-align: top;\n",
              "    }\n",
              "\n",
              "    .dataframe thead th {\n",
              "        text-align: right;\n",
              "    }\n",
              "</style>\n",
              "<table border=\"1\" class=\"dataframe\">\n",
              "  <thead>\n",
              "    <tr style=\"text-align: right;\">\n",
              "      <th></th>\n",
              "      <th>Stud_id</th>\n",
              "      <th>Gender</th>\n",
              "      <th>Dept</th>\n",
              "      <th>Attendance</th>\n",
              "      <th>SemMarks</th>\n",
              "      <th>Name</th>\n",
              "      <th>Unnamed: 6</th>\n",
              "    </tr>\n",
              "  </thead>\n",
              "  <tbody>\n",
              "    <tr>\n",
              "      <th>0</th>\n",
              "      <td>M197</td>\n",
              "      <td>Female</td>\n",
              "      <td>Science</td>\n",
              "      <td>63.0</td>\n",
              "      <td>475.0</td>\n",
              "      <td>Ritu</td>\n",
              "      <td>NaN</td>\n",
              "    </tr>\n",
              "    <tr>\n",
              "      <th>1</th>\n",
              "      <td>M181</td>\n",
              "      <td>Male</td>\n",
              "      <td>Commerce</td>\n",
              "      <td>86.0</td>\n",
              "      <td>303.0</td>\n",
              "      <td>Victor</td>\n",
              "      <td>NaN</td>\n",
              "    </tr>\n",
              "    <tr>\n",
              "      <th>2</th>\n",
              "      <td>S137</td>\n",
              "      <td>Female</td>\n",
              "      <td>Commerce</td>\n",
              "      <td>79.0</td>\n",
              "      <td>587.0</td>\n",
              "      <td>Daven</td>\n",
              "      <td>NaN</td>\n",
              "    </tr>\n",
              "    <tr>\n",
              "      <th>3</th>\n",
              "      <td>M193</td>\n",
              "      <td>Male</td>\n",
              "      <td>Commerce</td>\n",
              "      <td>47.0</td>\n",
              "      <td>403.0</td>\n",
              "      <td>Fernado</td>\n",
              "      <td>NaN</td>\n",
              "    </tr>\n",
              "    <tr>\n",
              "      <th>4</th>\n",
              "      <td>C166</td>\n",
              "      <td>Female</td>\n",
              "      <td>Science</td>\n",
              "      <td>59.0</td>\n",
              "      <td>461.0</td>\n",
              "      <td>Rose</td>\n",
              "      <td>NaN</td>\n",
              "    </tr>\n",
              "    <tr>\n",
              "      <th>5</th>\n",
              "      <td>S138</td>\n",
              "      <td>Male</td>\n",
              "      <td>Commerce</td>\n",
              "      <td>88.0</td>\n",
              "      <td>452.0</td>\n",
              "      <td>Vijay</td>\n",
              "      <td>NaN</td>\n",
              "    </tr>\n",
              "    <tr>\n",
              "      <th>6</th>\n",
              "      <td>A102</td>\n",
              "      <td>Female</td>\n",
              "      <td>Arts</td>\n",
              "      <td>97.0</td>\n",
              "      <td>589.0</td>\n",
              "      <td>Honey</td>\n",
              "      <td>NaN</td>\n",
              "    </tr>\n",
              "    <tr>\n",
              "      <th>7</th>\n",
              "      <td>A124</td>\n",
              "      <td>Male</td>\n",
              "      <td>Commerce</td>\n",
              "      <td>97.0</td>\n",
              "      <td>355.0</td>\n",
              "      <td>Randy</td>\n",
              "      <td>NaN</td>\n",
              "    </tr>\n",
              "    <tr>\n",
              "      <th>8</th>\n",
              "      <td>C173</td>\n",
              "      <td>Female</td>\n",
              "      <td>Arts</td>\n",
              "      <td>97.0</td>\n",
              "      <td>473.0</td>\n",
              "      <td>Jannet</td>\n",
              "      <td>NaN</td>\n",
              "    </tr>\n",
              "    <tr>\n",
              "      <th>9</th>\n",
              "      <td>C155</td>\n",
              "      <td>Male</td>\n",
              "      <td>Science</td>\n",
              "      <td>NaN</td>\n",
              "      <td>411.0</td>\n",
              "      <td>Pillai</td>\n",
              "      <td>NaN</td>\n",
              "    </tr>\n",
              "    <tr>\n",
              "      <th>10</th>\n",
              "      <td>M184</td>\n",
              "      <td>Male</td>\n",
              "      <td>Commerce</td>\n",
              "      <td>49.0</td>\n",
              "      <td>279.0</td>\n",
              "      <td>Morris</td>\n",
              "      <td>NaN</td>\n",
              "    </tr>\n",
              "    <tr>\n",
              "      <th>11</th>\n",
              "      <td>M178</td>\n",
              "      <td>Male</td>\n",
              "      <td>Arts</td>\n",
              "      <td>52.0</td>\n",
              "      <td>508.0</td>\n",
              "      <td>Dharel</td>\n",
              "      <td>NaN</td>\n",
              "    </tr>\n",
              "    <tr>\n",
              "      <th>12</th>\n",
              "      <td>C164</td>\n",
              "      <td>Male</td>\n",
              "      <td>Science</td>\n",
              "      <td>40.0</td>\n",
              "      <td>258.0</td>\n",
              "      <td>Atul</td>\n",
              "      <td>NaN</td>\n",
              "    </tr>\n",
              "    <tr>\n",
              "      <th>13</th>\n",
              "      <td>C152</td>\n",
              "      <td>Female</td>\n",
              "      <td>Comms</td>\n",
              "      <td>69.0</td>\n",
              "      <td>282.0</td>\n",
              "      <td>Millen</td>\n",
              "      <td>NaN</td>\n",
              "    </tr>\n",
              "    <tr>\n",
              "      <th>14</th>\n",
              "      <td>M188</td>\n",
              "      <td>Male</td>\n",
              "      <td>Commerce</td>\n",
              "      <td>0.0</td>\n",
              "      <td>206.0</td>\n",
              "      <td>Roshan</td>\n",
              "      <td>NaN</td>\n",
              "    </tr>\n",
              "    <tr>\n",
              "      <th>15</th>\n",
              "      <td>C158</td>\n",
              "      <td>Female</td>\n",
              "      <td>Science</td>\n",
              "      <td>97.0</td>\n",
              "      <td>450.0</td>\n",
              "      <td>Ancy</td>\n",
              "      <td>NaN</td>\n",
              "    </tr>\n",
              "    <tr>\n",
              "      <th>16</th>\n",
              "      <td>M185</td>\n",
              "      <td>Female</td>\n",
              "      <td>Commerce</td>\n",
              "      <td>40.0</td>\n",
              "      <td>201.0</td>\n",
              "      <td>NaN</td>\n",
              "      <td>NaN</td>\n",
              "    </tr>\n",
              "    <tr>\n",
              "      <th>17</th>\n",
              "      <td>A113</td>\n",
              "      <td>Male</td>\n",
              "      <td>Arts</td>\n",
              "      <td>97.0</td>\n",
              "      <td>291.0</td>\n",
              "      <td>Michael</td>\n",
              "      <td>NaN</td>\n",
              "    </tr>\n",
              "    <tr>\n",
              "      <th>18</th>\n",
              "      <td>M186</td>\n",
              "      <td>Female</td>\n",
              "      <td>Commerce</td>\n",
              "      <td>53.0</td>\n",
              "      <td>438.0</td>\n",
              "      <td>John</td>\n",
              "      <td>NaN</td>\n",
              "    </tr>\n",
              "    <tr>\n",
              "      <th>19</th>\n",
              "      <td>A106</td>\n",
              "      <td>Female</td>\n",
              "      <td>Arts</td>\n",
              "      <td>45.0</td>\n",
              "      <td>306.0</td>\n",
              "      <td>Peter</td>\n",
              "      <td>NaN</td>\n",
              "    </tr>\n",
              "    <tr>\n",
              "      <th>20</th>\n",
              "      <td>S133</td>\n",
              "      <td>Male</td>\n",
              "      <td>Commerce</td>\n",
              "      <td>90.0</td>\n",
              "      <td>593.0</td>\n",
              "      <td>David</td>\n",
              "      <td>NaN</td>\n",
              "    </tr>\n",
              "    <tr>\n",
              "      <th>21</th>\n",
              "      <td>C151</td>\n",
              "      <td>Male</td>\n",
              "      <td>Commerce</td>\n",
              "      <td>41.0</td>\n",
              "      <td>566.0</td>\n",
              "      <td>Jim</td>\n",
              "      <td>NaN</td>\n",
              "    </tr>\n",
              "    <tr>\n",
              "      <th>22</th>\n",
              "      <td>S147</td>\n",
              "      <td>Female</td>\n",
              "      <td>Commerce</td>\n",
              "      <td>61.0</td>\n",
              "      <td>297.0</td>\n",
              "      <td>Thomas</td>\n",
              "      <td>NaN</td>\n",
              "    </tr>\n",
              "    <tr>\n",
              "      <th>23</th>\n",
              "      <td>A107</td>\n",
              "      <td>Male</td>\n",
              "      <td>Art</td>\n",
              "      <td>57.0</td>\n",
              "      <td>359.0</td>\n",
              "      <td>Susan</td>\n",
              "      <td>NaN</td>\n",
              "    </tr>\n",
              "    <tr>\n",
              "      <th>25</th>\n",
              "      <td>A118</td>\n",
              "      <td>Male</td>\n",
              "      <td>Arts</td>\n",
              "      <td>89.0</td>\n",
              "      <td>443.0</td>\n",
              "      <td>Anuja</td>\n",
              "      <td>NaN</td>\n",
              "    </tr>\n",
              "    <tr>\n",
              "      <th>26</th>\n",
              "      <td>C161</td>\n",
              "      <td>Female</td>\n",
              "      <td>Science</td>\n",
              "      <td>92.0</td>\n",
              "      <td>571.0</td>\n",
              "      <td>Nicemary</td>\n",
              "      <td>NaN</td>\n",
              "    </tr>\n",
              "    <tr>\n",
              "      <th>27</th>\n",
              "      <td>S150</td>\n",
              "      <td>Female</td>\n",
              "      <td>Commerce</td>\n",
              "      <td>66.0</td>\n",
              "      <td>489.0</td>\n",
              "      <td>Lisa</td>\n",
              "      <td>NaN</td>\n",
              "    </tr>\n",
              "    <tr>\n",
              "      <th>28</th>\n",
              "      <td>M180</td>\n",
              "      <td>Female</td>\n",
              "      <td>Commerce</td>\n",
              "      <td>53.0</td>\n",
              "      <td>346.0</td>\n",
              "      <td>Louis</td>\n",
              "      <td>NaN</td>\n",
              "    </tr>\n",
              "    <tr>\n",
              "      <th>29</th>\n",
              "      <td>M182</td>\n",
              "      <td>Male</td>\n",
              "      <td>Commerce</td>\n",
              "      <td>56.0</td>\n",
              "      <td>553.0</td>\n",
              "      <td>Talwar</td>\n",
              "      <td>NaN</td>\n",
              "    </tr>\n",
              "    <tr>\n",
              "      <th>30</th>\n",
              "      <td>C172</td>\n",
              "      <td>NaN</td>\n",
              "      <td>Arts</td>\n",
              "      <td>60.0</td>\n",
              "      <td>332.0</td>\n",
              "      <td>Ann</td>\n",
              "      <td>NaN</td>\n",
              "    </tr>\n",
              "    <tr>\n",
              "      <th>31</th>\n",
              "      <td>S134</td>\n",
              "      <td>Male</td>\n",
              "      <td>Commerce</td>\n",
              "      <td>43.0</td>\n",
              "      <td>430.0</td>\n",
              "      <td>Priya</td>\n",
              "      <td>NaN</td>\n",
              "    </tr>\n",
              "    <tr>\n",
              "      <th>33</th>\n",
              "      <td>S142</td>\n",
              "      <td>Male</td>\n",
              "      <td>Commerce</td>\n",
              "      <td>90.0</td>\n",
              "      <td>201.0</td>\n",
              "      <td>Annie</td>\n",
              "      <td>NaN</td>\n",
              "    </tr>\n",
              "    <tr>\n",
              "      <th>34</th>\n",
              "      <td>S145</td>\n",
              "      <td>Female</td>\n",
              "      <td>Commerce</td>\n",
              "      <td>66.0</td>\n",
              "      <td>225.0</td>\n",
              "      <td>Bekele</td>\n",
              "      <td>NaN</td>\n",
              "    </tr>\n",
              "    <tr>\n",
              "      <th>35</th>\n",
              "      <td>A109</td>\n",
              "      <td>Female</td>\n",
              "      <td>Arts</td>\n",
              "      <td>81.0</td>\n",
              "      <td>422.0</td>\n",
              "      <td>Shayla</td>\n",
              "      <td>NaN</td>\n",
              "    </tr>\n",
              "    <tr>\n",
              "      <th>36</th>\n",
              "      <td>A109</td>\n",
              "      <td>Female</td>\n",
              "      <td>Arts</td>\n",
              "      <td>81.0</td>\n",
              "      <td>422.0</td>\n",
              "      <td>Dimple</td>\n",
              "      <td>NaN</td>\n",
              "    </tr>\n",
              "    <tr>\n",
              "      <th>37</th>\n",
              "      <td>S140</td>\n",
              "      <td>Female</td>\n",
              "      <td>Commerce</td>\n",
              "      <td>75.0</td>\n",
              "      <td>383.0</td>\n",
              "      <td>Kay</td>\n",
              "      <td>NaN</td>\n",
              "    </tr>\n",
              "    <tr>\n",
              "      <th>38</th>\n",
              "      <td>C169</td>\n",
              "      <td>Female</td>\n",
              "      <td>NaN</td>\n",
              "      <td>99.0</td>\n",
              "      <td>411.0</td>\n",
              "      <td>Joe</td>\n",
              "      <td>NaN</td>\n",
              "    </tr>\n",
              "    <tr>\n",
              "      <th>39</th>\n",
              "      <td>C174</td>\n",
              "      <td>Female</td>\n",
              "      <td>Arts</td>\n",
              "      <td>72.0</td>\n",
              "      <td>202.0</td>\n",
              "      <td>Josset</td>\n",
              "      <td>NaN</td>\n",
              "    </tr>\n",
              "    <tr>\n",
              "      <th>40</th>\n",
              "      <td>S144</td>\n",
              "      <td>Female</td>\n",
              "      <td>Commerce</td>\n",
              "      <td>96.0</td>\n",
              "      <td>367.0</td>\n",
              "      <td>sonia</td>\n",
              "      <td>NaN</td>\n",
              "    </tr>\n",
              "    <tr>\n",
              "      <th>41</th>\n",
              "      <td>S128</td>\n",
              "      <td>Male</td>\n",
              "      <td>Commerce</td>\n",
              "      <td>68.0</td>\n",
              "      <td>280.0</td>\n",
              "      <td>George</td>\n",
              "      <td>NaN</td>\n",
              "    </tr>\n",
              "    <tr>\n",
              "      <th>42</th>\n",
              "      <td>M192</td>\n",
              "      <td>Female</td>\n",
              "      <td>Commerce</td>\n",
              "      <td>52.0</td>\n",
              "      <td>544.0</td>\n",
              "      <td>Isha</td>\n",
              "      <td>NaN</td>\n",
              "    </tr>\n",
              "    <tr>\n",
              "      <th>45</th>\n",
              "      <td>S136</td>\n",
              "      <td>Male</td>\n",
              "      <td>Commerce</td>\n",
              "      <td>71.0</td>\n",
              "      <td>264.0</td>\n",
              "      <td>Bernard</td>\n",
              "      <td>NaN</td>\n",
              "    </tr>\n",
              "    <tr>\n",
              "      <th>47</th>\n",
              "      <td>A103</td>\n",
              "      <td>Male</td>\n",
              "      <td>Arts</td>\n",
              "      <td>97.0</td>\n",
              "      <td>381.0</td>\n",
              "      <td>Jacob</td>\n",
              "      <td>NaN</td>\n",
              "    </tr>\n",
              "    <tr>\n",
              "      <th>51</th>\n",
              "      <td>A122</td>\n",
              "      <td>Male</td>\n",
              "      <td>Commerce</td>\n",
              "      <td>84.0</td>\n",
              "      <td>459.0</td>\n",
              "      <td>James</td>\n",
              "      <td>NaN</td>\n",
              "    </tr>\n",
              "    <tr>\n",
              "      <th>53</th>\n",
              "      <td>M191</td>\n",
              "      <td>Male</td>\n",
              "      <td>Commerce</td>\n",
              "      <td>86.0</td>\n",
              "      <td>200.0</td>\n",
              "      <td>Suresh</td>\n",
              "      <td>NaN</td>\n",
              "    </tr>\n",
              "    <tr>\n",
              "      <th>60</th>\n",
              "      <td>M199</td>\n",
              "      <td>Male</td>\n",
              "      <td>Science</td>\n",
              "      <td>150.0</td>\n",
              "      <td>277.0</td>\n",
              "      <td>Mathew</td>\n",
              "      <td>NaN</td>\n",
              "    </tr>\n",
              "    <tr>\n",
              "      <th>61</th>\n",
              "      <td>A110</td>\n",
              "      <td>Male</td>\n",
              "      <td>Arts</td>\n",
              "      <td>44.0</td>\n",
              "      <td>517.0</td>\n",
              "      <td>Andrew</td>\n",
              "      <td>NaN</td>\n",
              "    </tr>\n",
              "    <tr>\n",
              "      <th>63</th>\n",
              "      <td>A111</td>\n",
              "      <td>Female</td>\n",
              "      <td>Arts</td>\n",
              "      <td>75.0</td>\n",
              "      <td>253.0</td>\n",
              "      <td>Nancy</td>\n",
              "      <td>NaN</td>\n",
              "    </tr>\n",
              "    <tr>\n",
              "      <th>66</th>\n",
              "      <td>C171</td>\n",
              "      <td>Male</td>\n",
              "      <td>Science</td>\n",
              "      <td>63.0</td>\n",
              "      <td>338.0</td>\n",
              "      <td>Jose</td>\n",
              "      <td>NaN</td>\n",
              "    </tr>\n",
              "  </tbody>\n",
              "</table>\n",
              "</div>"
            ],
            "text/plain": [
              "   Stud_id  Gender      Dept  Attendance  SemMarks      Name  Unnamed: 6\n",
              "0     M197  Female   Science        63.0     475.0      Ritu         NaN\n",
              "1     M181    Male  Commerce        86.0     303.0    Victor         NaN\n",
              "2     S137  Female  Commerce        79.0     587.0     Daven         NaN\n",
              "3     M193    Male  Commerce        47.0     403.0   Fernado         NaN\n",
              "4     C166  Female   Science        59.0     461.0      Rose         NaN\n",
              "5     S138    Male  Commerce        88.0     452.0     Vijay         NaN\n",
              "6     A102  Female      Arts        97.0     589.0     Honey         NaN\n",
              "7     A124    Male  Commerce        97.0     355.0     Randy         NaN\n",
              "8     C173  Female      Arts        97.0     473.0    Jannet         NaN\n",
              "9     C155    Male   Science         NaN     411.0    Pillai         NaN\n",
              "10    M184    Male  Commerce        49.0     279.0    Morris         NaN\n",
              "11    M178    Male      Arts        52.0     508.0    Dharel         NaN\n",
              "12    C164    Male   Science        40.0     258.0      Atul         NaN\n",
              "13    C152  Female     Comms        69.0     282.0    Millen         NaN\n",
              "14    M188    Male  Commerce         0.0     206.0    Roshan         NaN\n",
              "15    C158  Female   Science        97.0     450.0      Ancy         NaN\n",
              "16    M185  Female  Commerce        40.0     201.0       NaN         NaN\n",
              "17    A113    Male      Arts        97.0     291.0   Michael         NaN\n",
              "18    M186  Female  Commerce        53.0     438.0      John         NaN\n",
              "19    A106  Female      Arts        45.0     306.0     Peter         NaN\n",
              "20    S133    Male  Commerce        90.0     593.0     David         NaN\n",
              "21    C151    Male  Commerce        41.0     566.0       Jim         NaN\n",
              "22    S147  Female  Commerce        61.0     297.0    Thomas         NaN\n",
              "23    A107    Male       Art        57.0     359.0     Susan         NaN\n",
              "25    A118    Male      Arts        89.0     443.0     Anuja         NaN\n",
              "26    C161  Female   Science        92.0     571.0  Nicemary         NaN\n",
              "27    S150  Female  Commerce        66.0     489.0      Lisa         NaN\n",
              "28    M180  Female  Commerce        53.0     346.0     Louis         NaN\n",
              "29    M182    Male  Commerce        56.0     553.0    Talwar         NaN\n",
              "30    C172     NaN      Arts        60.0     332.0       Ann         NaN\n",
              "31    S134    Male  Commerce        43.0     430.0     Priya         NaN\n",
              "33    S142    Male  Commerce        90.0     201.0     Annie         NaN\n",
              "34    S145  Female  Commerce        66.0     225.0    Bekele         NaN\n",
              "35    A109  Female      Arts        81.0     422.0    Shayla         NaN\n",
              "36    A109  Female      Arts        81.0     422.0    Dimple         NaN\n",
              "37    S140  Female  Commerce        75.0     383.0       Kay         NaN\n",
              "38    C169  Female       NaN        99.0     411.0       Joe         NaN\n",
              "39    C174  Female      Arts        72.0     202.0    Josset         NaN\n",
              "40    S144  Female  Commerce        96.0     367.0     sonia         NaN\n",
              "41    S128    Male  Commerce        68.0     280.0    George         NaN\n",
              "42    M192  Female  Commerce        52.0     544.0      Isha         NaN\n",
              "45    S136    Male  Commerce        71.0     264.0   Bernard         NaN\n",
              "47    A103    Male      Arts        97.0     381.0     Jacob         NaN\n",
              "51    A122    Male  Commerce        84.0     459.0     James         NaN\n",
              "53    M191    Male  Commerce        86.0     200.0    Suresh         NaN\n",
              "60    M199    Male   Science       150.0     277.0    Mathew         NaN\n",
              "61    A110    Male      Arts        44.0     517.0    Andrew         NaN\n",
              "63    A111  Female      Arts        75.0     253.0     Nancy         NaN\n",
              "66    C171    Male   Science        63.0     338.0      Jose         NaN"
            ]
          },
          "metadata": {
            "tags": []
          },
          "execution_count": 43
        }
      ]
    },
    {
      "cell_type": "markdown",
      "metadata": {
        "id": "YODtv_vXcTtI"
      },
      "source": [
        "Delete a column"
      ]
    },
    {
      "cell_type": "code",
      "metadata": {
        "colab": {
          "base_uri": "https://localhost:8080/"
        },
        "id": "5XaXiCJAiDNl",
        "outputId": "067ecfa3-33d1-4410-b540-e28d1043fa42"
      },
      "source": [
        "dt.columns"
      ],
      "execution_count": 44,
      "outputs": [
        {
          "output_type": "execute_result",
          "data": {
            "text/plain": [
              "Index(['Stud_id', 'Gender', 'Dept', 'Attendance', 'SemMarks', 'Name',\n",
              "       'Unnamed: 6'],\n",
              "      dtype='object')"
            ]
          },
          "metadata": {
            "tags": []
          },
          "execution_count": 44
        }
      ]
    },
    {
      "cell_type": "code",
      "metadata": {
        "id": "d0E08nugb0iY"
      },
      "source": [
        "del dt['Stud_id']"
      ],
      "execution_count": 45,
      "outputs": []
    },
    {
      "cell_type": "code",
      "metadata": {
        "colab": {
          "base_uri": "https://localhost:8080/"
        },
        "id": "q1viz99Qb0gP",
        "outputId": "493b213b-64f8-4b4d-e795-6c705239970d"
      },
      "source": [
        "dt.columns"
      ],
      "execution_count": 46,
      "outputs": [
        {
          "output_type": "execute_result",
          "data": {
            "text/plain": [
              "Index(['Gender', 'Dept', 'Attendance', 'SemMarks', 'Name', 'Unnamed: 6'], dtype='object')"
            ]
          },
          "metadata": {
            "tags": []
          },
          "execution_count": 46
        }
      ]
    },
    {
      "cell_type": "markdown",
      "metadata": {
        "id": "M1OZ7ms1eGcj"
      },
      "source": [
        "Select Variables to make  a new columns"
      ]
    },
    {
      "cell_type": "code",
      "metadata": {
        "id": "l3J7XBErd6al"
      },
      "source": [
        "cols=['Dept','Attendance']"
      ],
      "execution_count": 47,
      "outputs": []
    },
    {
      "cell_type": "code",
      "metadata": {
        "id": "HiZanFhgzBN2"
      },
      "source": [
        "sel_data=dt[cols]"
      ],
      "execution_count": 48,
      "outputs": []
    },
    {
      "cell_type": "code",
      "metadata": {
        "colab": {
          "base_uri": "https://localhost:8080/"
        },
        "id": "KlFOfSVOzIWt",
        "outputId": "48f52327-307a-46c5-ae27-8d927ab75426"
      },
      "source": [
        "sel_data.columns"
      ],
      "execution_count": 49,
      "outputs": [
        {
          "output_type": "execute_result",
          "data": {
            "text/plain": [
              "Index(['Dept', 'Attendance'], dtype='object')"
            ]
          },
          "metadata": {
            "tags": []
          },
          "execution_count": 49
        }
      ]
    },
    {
      "cell_type": "code",
      "metadata": {
        "colab": {
          "base_uri": "https://localhost:8080/",
          "height": 204
        },
        "id": "Sv4RujKob0a5",
        "outputId": "5d9cac79-2a2e-459c-d040-a609f803aa32"
      },
      "source": [
        "sel_data.head()"
      ],
      "execution_count": 50,
      "outputs": [
        {
          "output_type": "execute_result",
          "data": {
            "text/html": [
              "<div>\n",
              "<style scoped>\n",
              "    .dataframe tbody tr th:only-of-type {\n",
              "        vertical-align: middle;\n",
              "    }\n",
              "\n",
              "    .dataframe tbody tr th {\n",
              "        vertical-align: top;\n",
              "    }\n",
              "\n",
              "    .dataframe thead th {\n",
              "        text-align: right;\n",
              "    }\n",
              "</style>\n",
              "<table border=\"1\" class=\"dataframe\">\n",
              "  <thead>\n",
              "    <tr style=\"text-align: right;\">\n",
              "      <th></th>\n",
              "      <th>Dept</th>\n",
              "      <th>Attendance</th>\n",
              "    </tr>\n",
              "  </thead>\n",
              "  <tbody>\n",
              "    <tr>\n",
              "      <th>0</th>\n",
              "      <td>Science</td>\n",
              "      <td>63.0</td>\n",
              "    </tr>\n",
              "    <tr>\n",
              "      <th>1</th>\n",
              "      <td>Commerce</td>\n",
              "      <td>86.0</td>\n",
              "    </tr>\n",
              "    <tr>\n",
              "      <th>2</th>\n",
              "      <td>Commerce</td>\n",
              "      <td>79.0</td>\n",
              "    </tr>\n",
              "    <tr>\n",
              "      <th>3</th>\n",
              "      <td>Commerce</td>\n",
              "      <td>47.0</td>\n",
              "    </tr>\n",
              "    <tr>\n",
              "      <th>4</th>\n",
              "      <td>Science</td>\n",
              "      <td>59.0</td>\n",
              "    </tr>\n",
              "  </tbody>\n",
              "</table>\n",
              "</div>"
            ],
            "text/plain": [
              "       Dept  Attendance\n",
              "0   Science        63.0\n",
              "1  Commerce        86.0\n",
              "2  Commerce        79.0\n",
              "3  Commerce        47.0\n",
              "4   Science        59.0"
            ]
          },
          "metadata": {
            "tags": []
          },
          "execution_count": 50
        }
      ]
    },
    {
      "cell_type": "markdown",
      "metadata": {
        "id": "9ErR-1X6ey13"
      },
      "source": [
        "Filling Missing Values"
      ]
    },
    {
      "cell_type": "code",
      "metadata": {
        "colab": {
          "base_uri": "https://localhost:8080/"
        },
        "id": "EWzK7bQ7fTCi",
        "outputId": "8f1a3e6d-b836-4138-e4c1-18b3d218f123"
      },
      "source": [
        "mean_attendance=round(dt['Attendance'].mean(),4)\n",
        "(mean_attendance)"
      ],
      "execution_count": 54,
      "outputs": [
        {
          "output_type": "execute_result",
          "data": {
            "text/plain": [
              "68.8286"
            ]
          },
          "metadata": {
            "tags": []
          },
          "execution_count": 54
        }
      ]
    },
    {
      "cell_type": "markdown",
      "metadata": {
        "id": "VLwfGScSfehT"
      },
      "source": [
        "Filtering variable"
      ]
    },
    {
      "cell_type": "code",
      "metadata": {
        "colab": {
          "base_uri": "https://localhost:8080/",
          "height": 1000
        },
        "id": "EBmOnZVyfiDJ",
        "outputId": "cefd35a3-d891-4a96-907f-72b9f9c5c3b7"
      },
      "source": [
        "dt[dt['SemMarks'] > 400]"
      ],
      "execution_count": 55,
      "outputs": [
        {
          "output_type": "execute_result",
          "data": {
            "text/html": [
              "<div>\n",
              "<style scoped>\n",
              "    .dataframe tbody tr th:only-of-type {\n",
              "        vertical-align: middle;\n",
              "    }\n",
              "\n",
              "    .dataframe tbody tr th {\n",
              "        vertical-align: top;\n",
              "    }\n",
              "\n",
              "    .dataframe thead th {\n",
              "        text-align: right;\n",
              "    }\n",
              "</style>\n",
              "<table border=\"1\" class=\"dataframe\">\n",
              "  <thead>\n",
              "    <tr style=\"text-align: right;\">\n",
              "      <th></th>\n",
              "      <th>Gender</th>\n",
              "      <th>Dept</th>\n",
              "      <th>Attendance</th>\n",
              "      <th>SemMarks</th>\n",
              "      <th>Name</th>\n",
              "      <th>Unnamed: 6</th>\n",
              "    </tr>\n",
              "  </thead>\n",
              "  <tbody>\n",
              "    <tr>\n",
              "      <th>0</th>\n",
              "      <td>Female</td>\n",
              "      <td>Science</td>\n",
              "      <td>63.0</td>\n",
              "      <td>475.0</td>\n",
              "      <td>Ritu</td>\n",
              "      <td>NaN</td>\n",
              "    </tr>\n",
              "    <tr>\n",
              "      <th>2</th>\n",
              "      <td>Female</td>\n",
              "      <td>Commerce</td>\n",
              "      <td>79.0</td>\n",
              "      <td>587.0</td>\n",
              "      <td>Daven</td>\n",
              "      <td>NaN</td>\n",
              "    </tr>\n",
              "    <tr>\n",
              "      <th>3</th>\n",
              "      <td>Male</td>\n",
              "      <td>Commerce</td>\n",
              "      <td>47.0</td>\n",
              "      <td>403.0</td>\n",
              "      <td>Fernado</td>\n",
              "      <td>NaN</td>\n",
              "    </tr>\n",
              "    <tr>\n",
              "      <th>4</th>\n",
              "      <td>Female</td>\n",
              "      <td>Science</td>\n",
              "      <td>59.0</td>\n",
              "      <td>461.0</td>\n",
              "      <td>Rose</td>\n",
              "      <td>NaN</td>\n",
              "    </tr>\n",
              "    <tr>\n",
              "      <th>5</th>\n",
              "      <td>Male</td>\n",
              "      <td>Commerce</td>\n",
              "      <td>88.0</td>\n",
              "      <td>452.0</td>\n",
              "      <td>Vijay</td>\n",
              "      <td>NaN</td>\n",
              "    </tr>\n",
              "    <tr>\n",
              "      <th>6</th>\n",
              "      <td>Female</td>\n",
              "      <td>Arts</td>\n",
              "      <td>97.0</td>\n",
              "      <td>589.0</td>\n",
              "      <td>Honey</td>\n",
              "      <td>NaN</td>\n",
              "    </tr>\n",
              "    <tr>\n",
              "      <th>8</th>\n",
              "      <td>Female</td>\n",
              "      <td>Arts</td>\n",
              "      <td>97.0</td>\n",
              "      <td>473.0</td>\n",
              "      <td>Jannet</td>\n",
              "      <td>NaN</td>\n",
              "    </tr>\n",
              "    <tr>\n",
              "      <th>9</th>\n",
              "      <td>Male</td>\n",
              "      <td>Science</td>\n",
              "      <td>NaN</td>\n",
              "      <td>411.0</td>\n",
              "      <td>Pillai</td>\n",
              "      <td>NaN</td>\n",
              "    </tr>\n",
              "    <tr>\n",
              "      <th>11</th>\n",
              "      <td>Male</td>\n",
              "      <td>Arts</td>\n",
              "      <td>52.0</td>\n",
              "      <td>508.0</td>\n",
              "      <td>Dharel</td>\n",
              "      <td>NaN</td>\n",
              "    </tr>\n",
              "    <tr>\n",
              "      <th>15</th>\n",
              "      <td>Female</td>\n",
              "      <td>Science</td>\n",
              "      <td>97.0</td>\n",
              "      <td>450.0</td>\n",
              "      <td>Ancy</td>\n",
              "      <td>NaN</td>\n",
              "    </tr>\n",
              "    <tr>\n",
              "      <th>18</th>\n",
              "      <td>Female</td>\n",
              "      <td>Commerce</td>\n",
              "      <td>53.0</td>\n",
              "      <td>438.0</td>\n",
              "      <td>John</td>\n",
              "      <td>NaN</td>\n",
              "    </tr>\n",
              "    <tr>\n",
              "      <th>20</th>\n",
              "      <td>Male</td>\n",
              "      <td>Commerce</td>\n",
              "      <td>90.0</td>\n",
              "      <td>593.0</td>\n",
              "      <td>David</td>\n",
              "      <td>NaN</td>\n",
              "    </tr>\n",
              "    <tr>\n",
              "      <th>21</th>\n",
              "      <td>Male</td>\n",
              "      <td>Commerce</td>\n",
              "      <td>41.0</td>\n",
              "      <td>566.0</td>\n",
              "      <td>Jim</td>\n",
              "      <td>NaN</td>\n",
              "    </tr>\n",
              "    <tr>\n",
              "      <th>25</th>\n",
              "      <td>Male</td>\n",
              "      <td>Arts</td>\n",
              "      <td>89.0</td>\n",
              "      <td>443.0</td>\n",
              "      <td>Anuja</td>\n",
              "      <td>NaN</td>\n",
              "    </tr>\n",
              "    <tr>\n",
              "      <th>26</th>\n",
              "      <td>Female</td>\n",
              "      <td>Science</td>\n",
              "      <td>92.0</td>\n",
              "      <td>571.0</td>\n",
              "      <td>Nicemary</td>\n",
              "      <td>NaN</td>\n",
              "    </tr>\n",
              "    <tr>\n",
              "      <th>27</th>\n",
              "      <td>Female</td>\n",
              "      <td>Commerce</td>\n",
              "      <td>66.0</td>\n",
              "      <td>489.0</td>\n",
              "      <td>Lisa</td>\n",
              "      <td>NaN</td>\n",
              "    </tr>\n",
              "    <tr>\n",
              "      <th>29</th>\n",
              "      <td>Male</td>\n",
              "      <td>Commerce</td>\n",
              "      <td>56.0</td>\n",
              "      <td>553.0</td>\n",
              "      <td>Talwar</td>\n",
              "      <td>NaN</td>\n",
              "    </tr>\n",
              "    <tr>\n",
              "      <th>31</th>\n",
              "      <td>Male</td>\n",
              "      <td>Commerce</td>\n",
              "      <td>43.0</td>\n",
              "      <td>430.0</td>\n",
              "      <td>Priya</td>\n",
              "      <td>NaN</td>\n",
              "    </tr>\n",
              "    <tr>\n",
              "      <th>32</th>\n",
              "      <td>Male</td>\n",
              "      <td>Commerce</td>\n",
              "      <td>80.0</td>\n",
              "      <td>420.0</td>\n",
              "      <td>Jannet</td>\n",
              "      <td>NaN</td>\n",
              "    </tr>\n",
              "    <tr>\n",
              "      <th>35</th>\n",
              "      <td>Female</td>\n",
              "      <td>Arts</td>\n",
              "      <td>81.0</td>\n",
              "      <td>422.0</td>\n",
              "      <td>Shayla</td>\n",
              "      <td>NaN</td>\n",
              "    </tr>\n",
              "    <tr>\n",
              "      <th>36</th>\n",
              "      <td>Female</td>\n",
              "      <td>Arts</td>\n",
              "      <td>81.0</td>\n",
              "      <td>422.0</td>\n",
              "      <td>Dimple</td>\n",
              "      <td>NaN</td>\n",
              "    </tr>\n",
              "    <tr>\n",
              "      <th>38</th>\n",
              "      <td>Female</td>\n",
              "      <td>NaN</td>\n",
              "      <td>99.0</td>\n",
              "      <td>411.0</td>\n",
              "      <td>Joe</td>\n",
              "      <td>NaN</td>\n",
              "    </tr>\n",
              "    <tr>\n",
              "      <th>42</th>\n",
              "      <td>Female</td>\n",
              "      <td>Commerce</td>\n",
              "      <td>52.0</td>\n",
              "      <td>544.0</td>\n",
              "      <td>Isha</td>\n",
              "      <td>NaN</td>\n",
              "    </tr>\n",
              "    <tr>\n",
              "      <th>46</th>\n",
              "      <td>Male</td>\n",
              "      <td>Arts</td>\n",
              "      <td>45.0</td>\n",
              "      <td>536.0</td>\n",
              "      <td>NaN</td>\n",
              "      <td>NaN</td>\n",
              "    </tr>\n",
              "    <tr>\n",
              "      <th>48</th>\n",
              "      <td>Female</td>\n",
              "      <td>Commerce</td>\n",
              "      <td>80.0</td>\n",
              "      <td>406.0</td>\n",
              "      <td>NaN</td>\n",
              "      <td>NaN</td>\n",
              "    </tr>\n",
              "    <tr>\n",
              "      <th>51</th>\n",
              "      <td>Male</td>\n",
              "      <td>Commerce</td>\n",
              "      <td>84.0</td>\n",
              "      <td>459.0</td>\n",
              "      <td>James</td>\n",
              "      <td>NaN</td>\n",
              "    </tr>\n",
              "    <tr>\n",
              "      <th>52</th>\n",
              "      <td>Female</td>\n",
              "      <td>Arts</td>\n",
              "      <td>67.0</td>\n",
              "      <td>482.0</td>\n",
              "      <td>NaN</td>\n",
              "      <td>NaN</td>\n",
              "    </tr>\n",
              "    <tr>\n",
              "      <th>55</th>\n",
              "      <td>Female</td>\n",
              "      <td>Commerce</td>\n",
              "      <td>47.0</td>\n",
              "      <td>487.0</td>\n",
              "      <td>NaN</td>\n",
              "      <td>NaN</td>\n",
              "    </tr>\n",
              "    <tr>\n",
              "      <th>56</th>\n",
              "      <td>Female</td>\n",
              "      <td>Arts</td>\n",
              "      <td>51.0</td>\n",
              "      <td>568.0</td>\n",
              "      <td>NaN</td>\n",
              "      <td>NaN</td>\n",
              "    </tr>\n",
              "    <tr>\n",
              "      <th>59</th>\n",
              "      <td>Female</td>\n",
              "      <td>Science</td>\n",
              "      <td>110.0</td>\n",
              "      <td>654.0</td>\n",
              "      <td>NaN</td>\n",
              "      <td>NaN</td>\n",
              "    </tr>\n",
              "    <tr>\n",
              "      <th>61</th>\n",
              "      <td>Male</td>\n",
              "      <td>Arts</td>\n",
              "      <td>44.0</td>\n",
              "      <td>517.0</td>\n",
              "      <td>Andrew</td>\n",
              "      <td>NaN</td>\n",
              "    </tr>\n",
              "    <tr>\n",
              "      <th>62</th>\n",
              "      <td>Female</td>\n",
              "      <td>Science</td>\n",
              "      <td>78.0</td>\n",
              "      <td>434.0</td>\n",
              "      <td>NaN</td>\n",
              "      <td>NaN</td>\n",
              "    </tr>\n",
              "    <tr>\n",
              "      <th>64</th>\n",
              "      <td>Male</td>\n",
              "      <td>Arts</td>\n",
              "      <td>68.0</td>\n",
              "      <td>494.0</td>\n",
              "      <td>NaN</td>\n",
              "      <td>NaN</td>\n",
              "    </tr>\n",
              "    <tr>\n",
              "      <th>67</th>\n",
              "      <td>Female</td>\n",
              "      <td>Science</td>\n",
              "      <td>69.0</td>\n",
              "      <td>443.0</td>\n",
              "      <td>NaN</td>\n",
              "      <td>NaN</td>\n",
              "    </tr>\n",
              "    <tr>\n",
              "      <th>68</th>\n",
              "      <td>Female</td>\n",
              "      <td>Commerce</td>\n",
              "      <td>76.0</td>\n",
              "      <td>555.0</td>\n",
              "      <td>NaN</td>\n",
              "      <td>NaN</td>\n",
              "    </tr>\n",
              "    <tr>\n",
              "      <th>69</th>\n",
              "      <td>Female</td>\n",
              "      <td>Science</td>\n",
              "      <td>78.0</td>\n",
              "      <td>434.0</td>\n",
              "      <td>NaN</td>\n",
              "      <td>NaN</td>\n",
              "    </tr>\n",
              "    <tr>\n",
              "      <th>71</th>\n",
              "      <td>Male</td>\n",
              "      <td>Commerce</td>\n",
              "      <td>56.0</td>\n",
              "      <td>553.0</td>\n",
              "      <td>NaN</td>\n",
              "      <td>NaN</td>\n",
              "    </tr>\n",
              "    <tr>\n",
              "      <th>73</th>\n",
              "      <td>Female</td>\n",
              "      <td>Commerce</td>\n",
              "      <td>69.0</td>\n",
              "      <td>516.0</td>\n",
              "      <td>NaN</td>\n",
              "      <td>NaN</td>\n",
              "    </tr>\n",
              "    <tr>\n",
              "      <th>75</th>\n",
              "      <td>Male</td>\n",
              "      <td>Science</td>\n",
              "      <td>56.0</td>\n",
              "      <td>514.0</td>\n",
              "      <td>NaN</td>\n",
              "      <td>NaN</td>\n",
              "    </tr>\n",
              "    <tr>\n",
              "      <th>76</th>\n",
              "      <td>Female</td>\n",
              "      <td>Commerce</td>\n",
              "      <td>82.0</td>\n",
              "      <td>594.0</td>\n",
              "      <td>NaN</td>\n",
              "      <td>NaN</td>\n",
              "    </tr>\n",
              "    <tr>\n",
              "      <th>77</th>\n",
              "      <td>Male</td>\n",
              "      <td>Commerce</td>\n",
              "      <td>70.0</td>\n",
              "      <td>507.0</td>\n",
              "      <td>NaN</td>\n",
              "      <td>NaN</td>\n",
              "    </tr>\n",
              "    <tr>\n",
              "      <th>79</th>\n",
              "      <td>Male</td>\n",
              "      <td>Science</td>\n",
              "      <td>51.0</td>\n",
              "      <td>404.0</td>\n",
              "      <td>NaN</td>\n",
              "      <td>NaN</td>\n",
              "    </tr>\n",
              "    <tr>\n",
              "      <th>80</th>\n",
              "      <td>Female</td>\n",
              "      <td>Commerce</td>\n",
              "      <td>99.0</td>\n",
              "      <td>458.0</td>\n",
              "      <td>NaN</td>\n",
              "      <td>NaN</td>\n",
              "    </tr>\n",
              "    <tr>\n",
              "      <th>85</th>\n",
              "      <td>Male</td>\n",
              "      <td>Commerce</td>\n",
              "      <td>83.0</td>\n",
              "      <td>469.0</td>\n",
              "      <td>NaN</td>\n",
              "      <td>NaN</td>\n",
              "    </tr>\n",
              "    <tr>\n",
              "      <th>86</th>\n",
              "      <td>Female</td>\n",
              "      <td>Science</td>\n",
              "      <td>91.0</td>\n",
              "      <td>549.0</td>\n",
              "      <td>NaN</td>\n",
              "      <td>NaN</td>\n",
              "    </tr>\n",
              "    <tr>\n",
              "      <th>87</th>\n",
              "      <td>Male</td>\n",
              "      <td>Arts</td>\n",
              "      <td>75.0</td>\n",
              "      <td>522.0</td>\n",
              "      <td>NaN</td>\n",
              "      <td>NaN</td>\n",
              "    </tr>\n",
              "    <tr>\n",
              "      <th>89</th>\n",
              "      <td>Male</td>\n",
              "      <td>Commerce</td>\n",
              "      <td>91.0</td>\n",
              "      <td>562.0</td>\n",
              "      <td>NaN</td>\n",
              "      <td>NaN</td>\n",
              "    </tr>\n",
              "    <tr>\n",
              "      <th>90</th>\n",
              "      <td>Female</td>\n",
              "      <td>Science</td>\n",
              "      <td>43.0</td>\n",
              "      <td>502.0</td>\n",
              "      <td>NaN</td>\n",
              "      <td>NaN</td>\n",
              "    </tr>\n",
              "    <tr>\n",
              "      <th>94</th>\n",
              "      <td>Female</td>\n",
              "      <td>Commerce</td>\n",
              "      <td>45.0</td>\n",
              "      <td>531.0</td>\n",
              "      <td>NaN</td>\n",
              "      <td>NaN</td>\n",
              "    </tr>\n",
              "    <tr>\n",
              "      <th>96</th>\n",
              "      <td>Female</td>\n",
              "      <td>Science</td>\n",
              "      <td>86.0</td>\n",
              "      <td>430.0</td>\n",
              "      <td>NaN</td>\n",
              "      <td>NaN</td>\n",
              "    </tr>\n",
              "    <tr>\n",
              "      <th>97</th>\n",
              "      <td>Male</td>\n",
              "      <td>Science</td>\n",
              "      <td>60.0</td>\n",
              "      <td>428.0</td>\n",
              "      <td>NaN</td>\n",
              "      <td>NaN</td>\n",
              "    </tr>\n",
              "    <tr>\n",
              "      <th>100</th>\n",
              "      <td>Female</td>\n",
              "      <td>Commerce</td>\n",
              "      <td>76.0</td>\n",
              "      <td>555.0</td>\n",
              "      <td>NaN</td>\n",
              "      <td>NaN</td>\n",
              "    </tr>\n",
              "    <tr>\n",
              "      <th>102</th>\n",
              "      <td>Female</td>\n",
              "      <td>Science</td>\n",
              "      <td>67.0</td>\n",
              "      <td>426.0</td>\n",
              "      <td>NaN</td>\n",
              "      <td>NaN</td>\n",
              "    </tr>\n",
              "    <tr>\n",
              "      <th>104</th>\n",
              "      <td>Female</td>\n",
              "      <td>Commerce</td>\n",
              "      <td>53.0</td>\n",
              "      <td>438.0</td>\n",
              "      <td>NaN</td>\n",
              "      <td>NaN</td>\n",
              "    </tr>\n",
              "  </tbody>\n",
              "</table>\n",
              "</div>"
            ],
            "text/plain": [
              "     Gender      Dept  Attendance  SemMarks      Name  Unnamed: 6\n",
              "0    Female   Science        63.0     475.0      Ritu         NaN\n",
              "2    Female  Commerce        79.0     587.0     Daven         NaN\n",
              "3      Male  Commerce        47.0     403.0   Fernado         NaN\n",
              "4    Female   Science        59.0     461.0      Rose         NaN\n",
              "5      Male  Commerce        88.0     452.0     Vijay         NaN\n",
              "6    Female      Arts        97.0     589.0     Honey         NaN\n",
              "8    Female      Arts        97.0     473.0    Jannet         NaN\n",
              "9      Male   Science         NaN     411.0    Pillai         NaN\n",
              "11     Male      Arts        52.0     508.0    Dharel         NaN\n",
              "15   Female   Science        97.0     450.0      Ancy         NaN\n",
              "18   Female  Commerce        53.0     438.0      John         NaN\n",
              "20     Male  Commerce        90.0     593.0     David         NaN\n",
              "21     Male  Commerce        41.0     566.0       Jim         NaN\n",
              "25     Male      Arts        89.0     443.0     Anuja         NaN\n",
              "26   Female   Science        92.0     571.0  Nicemary         NaN\n",
              "27   Female  Commerce        66.0     489.0      Lisa         NaN\n",
              "29     Male  Commerce        56.0     553.0    Talwar         NaN\n",
              "31     Male  Commerce        43.0     430.0     Priya         NaN\n",
              "32     Male  Commerce        80.0     420.0    Jannet         NaN\n",
              "35   Female      Arts        81.0     422.0    Shayla         NaN\n",
              "36   Female      Arts        81.0     422.0    Dimple         NaN\n",
              "38   Female       NaN        99.0     411.0       Joe         NaN\n",
              "42   Female  Commerce        52.0     544.0      Isha         NaN\n",
              "46     Male      Arts        45.0     536.0       NaN         NaN\n",
              "48   Female  Commerce        80.0     406.0       NaN         NaN\n",
              "51     Male  Commerce        84.0     459.0     James         NaN\n",
              "52   Female      Arts        67.0     482.0       NaN         NaN\n",
              "55   Female  Commerce        47.0     487.0       NaN         NaN\n",
              "56   Female      Arts        51.0     568.0       NaN         NaN\n",
              "59   Female   Science       110.0     654.0       NaN         NaN\n",
              "61     Male      Arts        44.0     517.0    Andrew         NaN\n",
              "62   Female   Science        78.0     434.0       NaN         NaN\n",
              "64     Male      Arts        68.0     494.0       NaN         NaN\n",
              "67   Female   Science        69.0     443.0       NaN         NaN\n",
              "68   Female  Commerce        76.0     555.0       NaN         NaN\n",
              "69   Female   Science        78.0     434.0       NaN         NaN\n",
              "71     Male  Commerce        56.0     553.0       NaN         NaN\n",
              "73   Female  Commerce        69.0     516.0       NaN         NaN\n",
              "75     Male   Science        56.0     514.0       NaN         NaN\n",
              "76   Female  Commerce        82.0     594.0       NaN         NaN\n",
              "77     Male  Commerce        70.0     507.0       NaN         NaN\n",
              "79     Male   Science        51.0     404.0       NaN         NaN\n",
              "80   Female  Commerce        99.0     458.0       NaN         NaN\n",
              "85     Male  Commerce        83.0     469.0       NaN         NaN\n",
              "86   Female   Science        91.0     549.0       NaN         NaN\n",
              "87     Male      Arts        75.0     522.0       NaN         NaN\n",
              "89     Male  Commerce        91.0     562.0       NaN         NaN\n",
              "90   Female   Science        43.0     502.0       NaN         NaN\n",
              "94   Female  Commerce        45.0     531.0       NaN         NaN\n",
              "96   Female   Science        86.0     430.0       NaN         NaN\n",
              "97     Male   Science        60.0     428.0       NaN         NaN\n",
              "100  Female  Commerce        76.0     555.0       NaN         NaN\n",
              "102  Female   Science        67.0     426.0       NaN         NaN\n",
              "104  Female  Commerce        53.0     438.0       NaN         NaN"
            ]
          },
          "metadata": {
            "tags": []
          },
          "execution_count": 55
        }
      ]
    },
    {
      "cell_type": "markdown",
      "metadata": {
        "id": "y8OfGzLTfxgx"
      },
      "source": [
        "Group variable for finding mean value"
      ]
    },
    {
      "cell_type": "code",
      "metadata": {
        "id": "RdlefdDFWaVx"
      },
      "source": [
        ""
      ],
      "execution_count": null,
      "outputs": []
    },
    {
      "cell_type": "code",
      "metadata": {
        "colab": {
          "base_uri": "https://localhost:8080/"
        },
        "id": "i0TiCYSoWcj2",
        "outputId": "7d57893f-5c7a-4aa9-c2d8-9eec3d997da9"
      },
      "source": [
        "dt['Attendance'].mean()"
      ],
      "execution_count": 59,
      "outputs": [
        {
          "output_type": "execute_result",
          "data": {
            "text/plain": [
              "68.82857142857142"
            ]
          },
          "metadata": {
            "tags": []
          },
          "execution_count": 59
        }
      ]
    },
    {
      "cell_type": "code",
      "metadata": {
        "colab": {
          "base_uri": "https://localhost:8080/"
        },
        "id": "GhzXVzJkXhRq",
        "outputId": "a3b9960b-36fc-4689-8ca8-b6f8e374761f"
      },
      "source": [
        "dt.groupby('Dept').Attendance.mean()"
      ],
      "execution_count": 60,
      "outputs": [
        {
          "output_type": "execute_result",
          "data": {
            "text/plain": [
              "Dept\n",
              "Art         57.000000\n",
              "Arts        69.769231\n",
              "Commerce    67.607843\n",
              "Comms       69.000000\n",
              "Science     69.708333\n",
              "Name: Attendance, dtype: float64"
            ]
          },
          "metadata": {
            "tags": []
          },
          "execution_count": 60
        }
      ]
    },
    {
      "cell_type": "code",
      "metadata": {
        "colab": {
          "base_uri": "https://localhost:8080/"
        },
        "id": "5j4vjjIcXf1w",
        "outputId": "f801c8c2-7217-41ac-f899-d42b4775769d"
      },
      "source": [
        "dt.groupby('Dept').Attendance.mean()"
      ],
      "execution_count": 61,
      "outputs": [
        {
          "output_type": "execute_result",
          "data": {
            "text/plain": [
              "Dept\n",
              "Art         57.000000\n",
              "Arts        69.769231\n",
              "Commerce    67.607843\n",
              "Comms       69.000000\n",
              "Science     69.708333\n",
              "Name: Attendance, dtype: float64"
            ]
          },
          "metadata": {
            "tags": []
          },
          "execution_count": 61
        }
      ]
    },
    {
      "cell_type": "code",
      "metadata": {
        "colab": {
          "base_uri": "https://localhost:8080/"
        },
        "id": "1_1oXNbXf3Uo",
        "outputId": "a67eb6fe-8680-4fc0-b235-c73070626cfb"
      },
      "source": [
        "dt.groupby('Dept').Attendance.mean()"
      ],
      "execution_count": 62,
      "outputs": [
        {
          "output_type": "execute_result",
          "data": {
            "text/plain": [
              "Dept\n",
              "Art         57.000000\n",
              "Arts        69.769231\n",
              "Commerce    67.607843\n",
              "Comms       69.000000\n",
              "Science     69.708333\n",
              "Name: Attendance, dtype: float64"
            ]
          },
          "metadata": {
            "tags": []
          },
          "execution_count": 62
        }
      ]
    },
    {
      "cell_type": "code",
      "metadata": {
        "colab": {
          "base_uri": "https://localhost:8080/",
          "height": 235
        },
        "id": "HF_Ajl7LV_W3",
        "outputId": "c0c16304-8e1a-40a6-8eca-b900f59597fd"
      },
      "source": [
        "dt.groupby('Dept').Attendance.describe()"
      ],
      "execution_count": 63,
      "outputs": [
        {
          "output_type": "execute_result",
          "data": {
            "text/html": [
              "<div>\n",
              "<style scoped>\n",
              "    .dataframe tbody tr th:only-of-type {\n",
              "        vertical-align: middle;\n",
              "    }\n",
              "\n",
              "    .dataframe tbody tr th {\n",
              "        vertical-align: top;\n",
              "    }\n",
              "\n",
              "    .dataframe thead th {\n",
              "        text-align: right;\n",
              "    }\n",
              "</style>\n",
              "<table border=\"1\" class=\"dataframe\">\n",
              "  <thead>\n",
              "    <tr style=\"text-align: right;\">\n",
              "      <th></th>\n",
              "      <th>count</th>\n",
              "      <th>mean</th>\n",
              "      <th>std</th>\n",
              "      <th>min</th>\n",
              "      <th>25%</th>\n",
              "      <th>50%</th>\n",
              "      <th>75%</th>\n",
              "      <th>max</th>\n",
              "    </tr>\n",
              "    <tr>\n",
              "      <th>Dept</th>\n",
              "      <th></th>\n",
              "      <th></th>\n",
              "      <th></th>\n",
              "      <th></th>\n",
              "      <th></th>\n",
              "      <th></th>\n",
              "      <th></th>\n",
              "      <th></th>\n",
              "    </tr>\n",
              "  </thead>\n",
              "  <tbody>\n",
              "    <tr>\n",
              "      <th>Art</th>\n",
              "      <td>1.0</td>\n",
              "      <td>57.000000</td>\n",
              "      <td>NaN</td>\n",
              "      <td>57.0</td>\n",
              "      <td>57.00</td>\n",
              "      <td>57.0</td>\n",
              "      <td>57.00</td>\n",
              "      <td>57.0</td>\n",
              "    </tr>\n",
              "    <tr>\n",
              "      <th>Arts</th>\n",
              "      <td>26.0</td>\n",
              "      <td>69.769231</td>\n",
              "      <td>19.896347</td>\n",
              "      <td>41.0</td>\n",
              "      <td>51.25</td>\n",
              "      <td>70.0</td>\n",
              "      <td>87.00</td>\n",
              "      <td>99.0</td>\n",
              "    </tr>\n",
              "    <tr>\n",
              "      <th>Commerce</th>\n",
              "      <td>51.0</td>\n",
              "      <td>67.607843</td>\n",
              "      <td>22.298949</td>\n",
              "      <td>0.0</td>\n",
              "      <td>53.00</td>\n",
              "      <td>71.0</td>\n",
              "      <td>83.50</td>\n",
              "      <td>99.0</td>\n",
              "    </tr>\n",
              "    <tr>\n",
              "      <th>Comms</th>\n",
              "      <td>1.0</td>\n",
              "      <td>69.000000</td>\n",
              "      <td>NaN</td>\n",
              "      <td>69.0</td>\n",
              "      <td>69.00</td>\n",
              "      <td>69.0</td>\n",
              "      <td>69.00</td>\n",
              "      <td>69.0</td>\n",
              "    </tr>\n",
              "    <tr>\n",
              "      <th>Science</th>\n",
              "      <td>24.0</td>\n",
              "      <td>69.708333</td>\n",
              "      <td>28.604468</td>\n",
              "      <td>0.0</td>\n",
              "      <td>58.25</td>\n",
              "      <td>65.0</td>\n",
              "      <td>87.25</td>\n",
              "      <td>150.0</td>\n",
              "    </tr>\n",
              "  </tbody>\n",
              "</table>\n",
              "</div>"
            ],
            "text/plain": [
              "          count       mean        std   min    25%   50%    75%    max\n",
              "Dept                                                                  \n",
              "Art         1.0  57.000000        NaN  57.0  57.00  57.0  57.00   57.0\n",
              "Arts       26.0  69.769231  19.896347  41.0  51.25  70.0  87.00   99.0\n",
              "Commerce   51.0  67.607843  22.298949   0.0  53.00  71.0  83.50   99.0\n",
              "Comms       1.0  69.000000        NaN  69.0  69.00  69.0  69.00   69.0\n",
              "Science    24.0  69.708333  28.604468   0.0  58.25  65.0  87.25  150.0"
            ]
          },
          "metadata": {
            "tags": []
          },
          "execution_count": 63
        }
      ]
    },
    {
      "cell_type": "code",
      "metadata": {
        "id": "-gWyxtL5V8cS"
      },
      "source": [
        ""
      ],
      "execution_count": 63,
      "outputs": []
    },
    {
      "cell_type": "markdown",
      "metadata": {
        "id": "dKKDUybZoONj"
      },
      "source": [
        "## Data Visualisation \n",
        "\n",
        "## Bar Chart"
      ]
    },
    {
      "cell_type": "markdown",
      "metadata": {
        "id": "4lo9fsC5X5q_"
      },
      "source": [
        ""
      ]
    },
    {
      "cell_type": "code",
      "metadata": {
        "colab": {
          "base_uri": "https://localhost:8080/",
          "height": 265
        },
        "id": "hY-IWT9moONj",
        "outputId": "ed1be050-8099-4b8f-bd8f-034d50f392fa"
      },
      "source": [
        "import matplotlib\n",
        "%matplotlib inline\n",
        "dt['Dept'].value_counts().plot(kind='pie')"
      ],
      "execution_count": 64,
      "outputs": [
        {
          "output_type": "execute_result",
          "data": {
            "text/plain": [
              "<matplotlib.axes._subplots.AxesSubplot at 0x7f192428dc50>"
            ]
          },
          "metadata": {
            "tags": []
          },
          "execution_count": 64
        },
        {
          "output_type": "display_data",
          "data": {
            "image/png": "[encoded data removed]",
            "text/plain": [
              "<Figure size 432x288 with 1 Axes>"
            ]
          },
          "metadata": {
            "tags": []
          }
        }
      ]
    },
    {
      "cell_type": "code",
      "metadata": {
        "colab": {
          "base_uri": "https://localhost:8080/",
          "height": 282
        },
        "id": "iR1LPjN-oONn",
        "outputId": "b4259fe0-9d0a-430c-fdab-c741a70a7ab8"
      },
      "source": [
        "dt['Dept'].value_counts().plot(kind='hist')"
      ],
      "execution_count": 65,
      "outputs": [
        {
          "output_type": "execute_result",
          "data": {
            "text/plain": [
              "<matplotlib.axes._subplots.AxesSubplot at 0x7f1924235090>"
            ]
          },
          "metadata": {
            "tags": []
          },
          "execution_count": 65
        },
        {
          "output_type": "display_data",
          "data": {
            "image/png": "[encoded data removed]",
            "text/plain": [
              "<Figure size 432x288 with 1 Axes>"
            ]
          },
          "metadata": {
            "tags": [],
            "needs_background": "light"
          }
        }
      ]
    },
    {
      "cell_type": "code",
      "metadata": {
        "colab": {
          "base_uri": "https://localhost:8080/",
          "height": 282
        },
        "id": "1Y5qA2FHoONp",
        "outputId": "7a097919-c39b-4e92-dcc4-c3cce7d88564"
      },
      "source": [
        "dt['Dept'].value_counts().plot(kind='line')"
      ],
      "execution_count": 66,
      "outputs": [
        {
          "output_type": "execute_result",
          "data": {
            "text/plain": [
              "<matplotlib.axes._subplots.AxesSubplot at 0x7f1923d11510>"
            ]
          },
          "metadata": {
            "tags": []
          },
          "execution_count": 66
        },
        {
          "output_type": "display_data",
          "data": {
            "image/png": "[encoded data removed]",
            "text/plain": [
              "<Figure size 432x288 with 1 Axes>"
            ]
          },
          "metadata": {
            "tags": [],
            "needs_background": "light"
          }
        }
      ]
    },
    {
      "cell_type": "code",
      "metadata": {
        "id": "0gOlKfKmaCgW"
      },
      "source": [
        ""
      ],
      "execution_count": 66,
      "outputs": []
    },
    {
      "cell_type": "code",
      "metadata": {
        "colab": {
          "base_uri": "https://localhost:8080/",
          "height": 282
        },
        "id": "gNygF4kNgfR-",
        "outputId": "43c9a9d6-b235-4888-947e-ab28f613992b"
      },
      "source": [
        "dt['Attendance'].value_counts().plot(kind='hist',bins=10)"
      ],
      "execution_count": 67,
      "outputs": [
        {
          "output_type": "execute_result",
          "data": {
            "text/plain": [
              "<matplotlib.axes._subplots.AxesSubplot at 0x7f1923c9dad0>"
            ]
          },
          "metadata": {
            "tags": []
          },
          "execution_count": 67
        },
        {
          "output_type": "display_data",
          "data": {
            "image/png": "[encoded data removed]",
            "text/plain": [
              "<Figure size 432x288 with 1 Axes>"
            ]
          },
          "metadata": {
            "tags": [],
            "needs_background": "light"
          }
        }
      ]
    },
    {
      "cell_type": "code",
      "metadata": {
        "colab": {
          "base_uri": "https://localhost:8080/",
          "height": 282
        },
        "id": "eyVbCooDoON-",
        "outputId": "11424826-1f15-4b30-ae11-ccc1d15682c5"
      },
      "source": [
        "dt.groupby('Dept')['Attendance'].mean().sort_values(ascending =True).plot(kind='barh')"
      ],
      "execution_count": 68,
      "outputs": [
        {
          "output_type": "execute_result",
          "data": {
            "text/plain": [
              "<matplotlib.axes._subplots.AxesSubplot at 0x7f1923cfc650>"
            ]
          },
          "metadata": {
            "tags": []
          },
          "execution_count": 68
        },
        {
          "output_type": "display_data",
          "data": {
            "image/png": "[encoded data removed]",
            "text/plain": [
              "<Figure size 432x288 with 1 Axes>"
            ]
          },
          "metadata": {
            "tags": [],
            "needs_background": "light"
          }
        }
      ]
    },
    {
      "cell_type": "code",
      "metadata": {
        "colab": {
          "base_uri": "https://localhost:8080/",
          "height": 296
        },
        "id": "9g6tAG2IoOOA",
        "outputId": "703ccb2b-2ad3-49d4-a3dd-ea2107809445"
      },
      "source": [
        "dt[['Attendance','SemMarks']].plot(x='Attendance',y='SemMarks',kind='scatter')"
      ],
      "execution_count": 69,
      "outputs": [
        {
          "output_type": "execute_result",
          "data": {
            "text/plain": [
              "<matplotlib.axes._subplots.AxesSubplot at 0x7f1923b97b10>"
            ]
          },
          "metadata": {
            "tags": []
          },
          "execution_count": 69
        },
        {
          "output_type": "display_data",
          "data": {
            "image/png": "[encoded data removed]",
            "text/plain": [
              "<Figure size 432x288 with 1 Axes>"
            ]
          },
          "metadata": {
            "tags": [],
            "needs_background": "light"
          }
        }
      ]
    },
    {
      "cell_type": "code",
      "metadata": {
        "colab": {
          "base_uri": "https://localhost:8080/",
          "height": 282
        },
        "id": "6Z0dkv11vXwg",
        "outputId": "19194263-ecc9-4b41-c106-2decdf770936"
      },
      "source": [
        "dt[['Attendance','SemMarks']].plot(x='Attendance',y='SemMarks',kind='box')"
      ],
      "execution_count": 70,
      "outputs": [
        {
          "output_type": "execute_result",
          "data": {
            "text/plain": [
              "<matplotlib.axes._subplots.AxesSubplot at 0x7f1923b11c50>"
            ]
          },
          "metadata": {
            "tags": []
          },
          "execution_count": 70
        },
        {
          "output_type": "display_data",
          "data": {
            "image/png": "[encoded data removed]",
            "text/plain": [
              "<Figure size 432x288 with 1 Axes>"
            ]
          },
          "metadata": {
            "tags": [],
            "needs_background": "light"
          }
        }
      ]
    },
    {
      "cell_type": "markdown",
      "metadata": {
        "id": "YTZ4AAKUgtMd"
      },
      "source": [
        "# # SD and Variance "
      ]
    },
    {
      "cell_type": "code",
      "metadata": {
        "colab": {
          "base_uri": "https://localhost:8080/"
        },
        "id": "mqtfePX9gsV3",
        "outputId": "f7380bd8-554e-410b-e4ab-d321bc471b38"
      },
      "source": [
        "dt.Attendance.std()"
      ],
      "execution_count": 73,
      "outputs": [
        {
          "output_type": "execute_result",
          "data": {
            "text/plain": [
              "22.944103123283508"
            ]
          },
          "metadata": {
            "tags": []
          },
          "execution_count": 73
        }
      ]
    },
    {
      "cell_type": "code",
      "metadata": {
        "colab": {
          "base_uri": "https://localhost:8080/"
        },
        "id": "-_D6hjOkNnAg",
        "outputId": "05df6e97-5258-4801-92ff-49eb1f352ceb"
      },
      "source": [
        "dt.Attendance.var()"
      ],
      "execution_count": 72,
      "outputs": [
        {
          "output_type": "execute_result",
          "data": {
            "text/plain": [
              "526.4318681318681"
            ]
          },
          "metadata": {
            "tags": []
          },
          "execution_count": 72
        }
      ]
    },
    {
      "cell_type": "code",
      "metadata": {
        "id": "A2Z_0ch1N3BJ"
      },
      "source": [
        ""
      ],
      "execution_count": 72,
      "outputs": []
    },
    {
      "cell_type": "markdown",
      "metadata": {
        "id": "WgosSUBThPgF"
      },
      "source": [
        "## Chi Square test "
      ]
    },
    {
      "cell_type": "markdown",
      "metadata": {
        "id": "fy-oAvwbh0yx"
      },
      "source": [
        "cross tab"
      ]
    },
    {
      "cell_type": "code",
      "metadata": {
        "colab": {
          "base_uri": "https://localhost:8080/"
        },
        "id": "a_UB1pndKfaa",
        "outputId": "44961a3c-4d51-4ca4-ef22-5dfa2ca7e3c8"
      },
      "source": [
        "dt.columns"
      ],
      "execution_count": 74,
      "outputs": [
        {
          "output_type": "execute_result",
          "data": {
            "text/plain": [
              "Index(['Gender', 'Dept', 'Attendance', 'SemMarks', 'Name', 'Unnamed: 6'], dtype='object')"
            ]
          },
          "metadata": {
            "tags": []
          },
          "execution_count": 74
        }
      ]
    },
    {
      "cell_type": "code",
      "metadata": {
        "id": "0Mt4IrXeImi9"
      },
      "source": [
        "\n",
        "cdata=pd.crosstab(dt.Dept,dt.Gender,margins=False)"
      ],
      "execution_count": 75,
      "outputs": []
    },
    {
      "cell_type": "code",
      "metadata": {
        "id": "y1zkwwHQK7NF"
      },
      "source": [
        "from scipy.stats import chi2_contingency as chi"
      ],
      "execution_count": 86,
      "outputs": []
    },
    {
      "cell_type": "code",
      "metadata": {
        "id": "8CjzdWKnL4tl"
      },
      "source": [
        "chi,p,dof,ex=chi(cdata,correction=False)"
      ],
      "execution_count": 87,
      "outputs": []
    },
    {
      "cell_type": "code",
      "metadata": {
        "colab": {
          "base_uri": "https://localhost:8080/"
        },
        "id": "8iXIzJuYMWlT",
        "outputId": "0f7ac81c-be7f-4992-940f-202c27d379b8"
      },
      "source": [
        "chi,p,dof,ex"
      ],
      "execution_count": 78,
      "outputs": [
        {
          "output_type": "execute_result",
          "data": {
            "text/plain": [
              "(6.501586792836793,\n",
              " 0.8887202277709765,\n",
              " 12,\n",
              " array([[5.43689320e-01, 9.70873786e-03, 4.36893204e-01, 9.70873786e-03],\n",
              "        [1.35922330e+01, 2.42718447e-01, 1.09223301e+01, 2.42718447e-01],\n",
              "        [2.82718447e+01, 5.04854369e-01, 2.27184466e+01, 5.04854369e-01],\n",
              "        [5.43689320e-01, 9.70873786e-03, 4.36893204e-01, 9.70873786e-03],\n",
              "        [1.30485437e+01, 2.33009709e-01, 1.04854369e+01, 2.33009709e-01]]))"
            ]
          },
          "metadata": {
            "tags": []
          },
          "execution_count": 78
        }
      ]
    },
    {
      "cell_type": "markdown",
      "metadata": {
        "id": "NAXcr-v_h22_"
      },
      "source": [
        "correlations"
      ]
    },
    {
      "cell_type": "code",
      "metadata": {
        "colab": {
          "base_uri": "https://localhost:8080/",
          "height": 142
        },
        "id": "85NQGdkgh4Je",
        "outputId": "b2bf6cea-61a4-4896-92ed-774833937786"
      },
      "source": [
        "dt.corr()"
      ],
      "execution_count": 79,
      "outputs": [
        {
          "output_type": "execute_result",
          "data": {
            "text/html": [
              "<div>\n",
              "<style scoped>\n",
              "    .dataframe tbody tr th:only-of-type {\n",
              "        vertical-align: middle;\n",
              "    }\n",
              "\n",
              "    .dataframe tbody tr th {\n",
              "        vertical-align: top;\n",
              "    }\n",
              "\n",
              "    .dataframe thead th {\n",
              "        text-align: right;\n",
              "    }\n",
              "</style>\n",
              "<table border=\"1\" class=\"dataframe\">\n",
              "  <thead>\n",
              "    <tr style=\"text-align: right;\">\n",
              "      <th></th>\n",
              "      <th>Attendance</th>\n",
              "      <th>SemMarks</th>\n",
              "      <th>Unnamed: 6</th>\n",
              "    </tr>\n",
              "  </thead>\n",
              "  <tbody>\n",
              "    <tr>\n",
              "      <th>Attendance</th>\n",
              "      <td>1.000000</td>\n",
              "      <td>0.052118</td>\n",
              "      <td>NaN</td>\n",
              "    </tr>\n",
              "    <tr>\n",
              "      <th>SemMarks</th>\n",
              "      <td>0.052118</td>\n",
              "      <td>1.000000</td>\n",
              "      <td>NaN</td>\n",
              "    </tr>\n",
              "    <tr>\n",
              "      <th>Unnamed: 6</th>\n",
              "      <td>NaN</td>\n",
              "      <td>NaN</td>\n",
              "      <td>NaN</td>\n",
              "    </tr>\n",
              "  </tbody>\n",
              "</table>\n",
              "</div>"
            ],
            "text/plain": [
              "            Attendance  SemMarks  Unnamed: 6\n",
              "Attendance    1.000000  0.052118         NaN\n",
              "SemMarks      0.052118  1.000000         NaN\n",
              "Unnamed: 6         NaN       NaN         NaN"
            ]
          },
          "metadata": {
            "tags": []
          },
          "execution_count": 79
        }
      ]
    },
    {
      "cell_type": "code",
      "metadata": {
        "id": "B9CzgVH_itvb"
      },
      "source": [
        "import seaborn as sns"
      ],
      "execution_count": 80,
      "outputs": []
    },
    {
      "cell_type": "code",
      "metadata": {
        "colab": {
          "base_uri": "https://localhost:8080/",
          "height": 290
        },
        "id": "gvgqblFci285",
        "outputId": "0f23070b-07c1-4c82-8a12-d793231141bf"
      },
      "source": [
        "sns.heatmap(dt.corr())"
      ],
      "execution_count": 81,
      "outputs": [
        {
          "output_type": "execute_result",
          "data": {
            "text/plain": [
              "<matplotlib.axes._subplots.AxesSubplot at 0x7f1923a1d7d0>"
            ]
          },
          "metadata": {
            "tags": []
          },
          "execution_count": 81
        },
        {
          "output_type": "display_data",
          "data": {
            "image/png": "[encoded data removed]",
            "text/plain": [
              "<Figure size 432x288 with 2 Axes>"
            ]
          },
          "metadata": {
            "tags": [],
            "needs_background": "light"
          }
        }
      ]
    },
    {
      "cell_type": "markdown",
      "metadata": {
        "id": "kvEF8EzJkRCZ"
      },
      "source": [
        ""
      ]
    },
    {
      "cell_type": "code",
      "metadata": {
        "colab": {
          "base_uri": "https://localhost:8080/",
          "height": 80
        },
        "id": "xjqd3zswl8oC",
        "outputId": "a5d62a41-53ed-4c5c-ccbc-78be7eca25bc"
      },
      "source": [
        "dt.head(1)"
      ],
      "execution_count": 82,
      "outputs": [
        {
          "output_type": "execute_result",
          "data": {
            "text/html": [
              "<div>\n",
              "<style scoped>\n",
              "    .dataframe tbody tr th:only-of-type {\n",
              "        vertical-align: middle;\n",
              "    }\n",
              "\n",
              "    .dataframe tbody tr th {\n",
              "        vertical-align: top;\n",
              "    }\n",
              "\n",
              "    .dataframe thead th {\n",
              "        text-align: right;\n",
              "    }\n",
              "</style>\n",
              "<table border=\"1\" class=\"dataframe\">\n",
              "  <thead>\n",
              "    <tr style=\"text-align: right;\">\n",
              "      <th></th>\n",
              "      <th>Gender</th>\n",
              "      <th>Dept</th>\n",
              "      <th>Attendance</th>\n",
              "      <th>SemMarks</th>\n",
              "      <th>Name</th>\n",
              "      <th>Unnamed: 6</th>\n",
              "    </tr>\n",
              "  </thead>\n",
              "  <tbody>\n",
              "    <tr>\n",
              "      <th>0</th>\n",
              "      <td>Female</td>\n",
              "      <td>Science</td>\n",
              "      <td>63.0</td>\n",
              "      <td>475.0</td>\n",
              "      <td>Ritu</td>\n",
              "      <td>NaN</td>\n",
              "    </tr>\n",
              "  </tbody>\n",
              "</table>\n",
              "</div>"
            ],
            "text/plain": [
              "   Gender     Dept  Attendance  SemMarks  Name  Unnamed: 6\n",
              "0  Female  Science        63.0     475.0  Ritu         NaN"
            ]
          },
          "metadata": {
            "tags": []
          },
          "execution_count": 82
        }
      ]
    },
    {
      "cell_type": "code",
      "metadata": {
        "id": "FhOW86q6JSVy"
      },
      "source": [
        "from matplotlib import pyplot as plt"
      ],
      "execution_count": 83,
      "outputs": []
    },
    {
      "cell_type": "code",
      "metadata": {
        "colab": {
          "base_uri": "https://localhost:8080/",
          "height": 295
        },
        "id": "0OJM2ja2JSVy",
        "outputId": "76a26cd0-1b6a-4bd0-e066-439b07bf3872"
      },
      "source": [
        "plt.scatter(dt['Attendance'],dt['SemMarks'],color ='g')\n",
        "plt.title(\"scatter plot\")\n",
        "plt.xlabel(\"Attendance\")\n",
        "plt.ylabel(\"SemMarks\")\n",
        "plt.show()"
      ],
      "execution_count": 84,
      "outputs": [
        {
          "output_type": "display_data",
          "data": {
            "image/png": "[encoded data removed]",
            "text/plain": [
              "<Figure size 432x288 with 1 Axes>"
            ]
          },
          "metadata": {
            "tags": [],
            "needs_background": "light"
          }
        }
      ]
    },
    {
      "cell_type": "code",
      "metadata": {
        "colab": {
          "base_uri": "https://localhost:8080/",
          "height": 295
        },
        "id": "_CO5gtUdJSVz",
        "outputId": "cd0f48bd-8e40-4b52-ac8c-2c176860f224"
      },
      "source": [
        "plt.scatter(dt['Attendance'],dt['SemMarks'],color ='g',s=50, marker='*')\n",
        "plt.title(\"scatter plot\")\n",
        "plt.xlabel(\"Attendance\")\n",
        "plt.ylabel(\"SemMarks\")\n",
        "plt.show()"
      ],
      "execution_count": 85,
      "outputs": [
        {
          "output_type": "display_data",
          "data": {
            "image/png": "[encoded data removed]",
            "text/plain": [
              "<Figure size 432x288 with 1 Axes>"
            ]
          },
          "metadata": {
            "tags": [],
            "needs_background": "light"
          }
        }
      ]
    }
  ]
}